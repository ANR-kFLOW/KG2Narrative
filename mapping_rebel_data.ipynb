{
 "cells": [
  {
   "cell_type": "code",
   "execution_count": 1,
   "outputs": [],
   "source": [
    "import pandas as pd\n",
    "from nltk.tokenize import word_tokenize"
   ],
   "metadata": {
    "collapsed": false,
    "pycharm": {
     "name": "#%%\n"
    }
   }
  },
  {
   "cell_type": "code",
   "execution_count": 2,
   "outputs": [],
   "source": [
    "data = pd.read_csv('../Additional_eurecom_code/Event_extraction/data/joined_train.csv')"
   ],
   "metadata": {
    "collapsed": false,
    "pycharm": {
     "name": "#%%\n"
    }
   }
  },
  {
   "cell_type": "code",
   "execution_count": 3,
   "outputs": [],
   "source": [
    "data = data.drop(data.columns[[0, 1]], axis=1)"
   ],
   "metadata": {
    "collapsed": false,
    "pycharm": {
     "name": "#%%\n"
    }
   }
  },
  {
   "cell_type": "code",
   "execution_count": null,
   "outputs": [],
   "source": [
    "data = data[data['tag'].str.contains('effect')].reset_index(drop=True) #Only keep entries that have an effect and thus a relation\n",
    "data.head(20)"
   ],
   "metadata": {
    "collapsed": false,
    "pycharm": {
     "name": "#%%\n"
    }
   }
  },
  {
   "cell_type": "code",
   "execution_count": 23,
   "outputs": [
    {
     "name": "stdout",
     "output_type": "stream",
     "text": [
      "Number of skipped: 245\n"
     ]
    }
   ],
   "source": [
    "\"\"\"\n",
    "assumtpions:\n",
    "- One subject and one object\n",
    "- Every line has an effect\n",
    "\"\"\"\n",
    "\n",
    "data = data[data['tag'].str.contains('effect')] #Only keep entries that have an effect and thus a relation\n",
    "triplets = []\n",
    "labels = []\n",
    "context = []\n",
    "skipped = 0\n",
    "\n",
    "for index, row in data.iterrows():\n",
    "\n",
    "    sub_obj = {}\n",
    "\n",
    "    tokenize_text = word_tokenize(row['text'])\n",
    "    split_tags = row['tag'].split()\n",
    "\n",
    "    if len(tokenize_text) != len(split_tags): #This means the tags and tokens do not overlap correctly, hence results are wrong.\n",
    "        skipped += 1\n",
    "        continue\n",
    "\n",
    "    for word, tag in zip(tokenize_text, split_tags):\n",
    "\n",
    "        if tag != '0': #an entity is detected\n",
    "\n",
    "            if tag in sub_obj: #This means that the entity consists of 2 words\n",
    "                sub_obj[tag] += f' {word}'\n",
    "            else:\n",
    "                sub_obj[tag] = word\n",
    "\n",
    "    for key, value in sub_obj.items():\n",
    "        if key != 'effect': #all other relations are the subjects\n",
    "            subject = value\n",
    "        else: #Effect is always the object\n",
    "            object = value\n",
    "\n",
    "    triplets.append(f\"<triplet> {subject} <subj> {object} <obj> {row['label']}\")\n",
    "    labels.append(row['label'])\n",
    "    context.append(row['text'])\n",
    "\n",
    "final_data = pd.DataFrame(list(zip(range(len(triplets)), range(len(triplets)), context, triplets)),\n",
    "                          columns = ['id', 'title', 'context', 'triplets'])\n",
    "\n",
    "final_data.to_csv('Data/rebel_format.csv', index=False)\n",
    "print(f\"Number of skipped: {skipped}\")"
   ],
   "metadata": {
    "collapsed": false,
    "pycharm": {
     "name": "#%%\n"
    }
   }
  },
  {
   "cell_type": "code",
   "execution_count": 27,
   "outputs": [
    {
     "name": "stdout",
     "output_type": "stream",
     "text": [
      "25 no effect\n",
      "122 no effect\n",
      "123 no effect\n",
      "255 no effect\n",
      "353 no effect\n",
      "461 no effect\n",
      "519 no effect\n",
      "544 no effect\n",
      "646 no effect\n",
      "650 no effect\n",
      "736 no effect\n",
      "800 no effect\n",
      "880 no effect\n",
      "935 no effect\n",
      "1023 no effect\n",
      "1097 no effect\n",
      "1203 no effect\n",
      "1227 no effect\n",
      "1272 no effect\n",
      "1347 no effect\n",
      "1387 no effect\n",
      "1704 no effect\n",
      "1785 no effect\n",
      "1816 no effect\n",
      "number of no relations: 96\n",
      "number of no effects: 24\n"
     ]
    }
   ],
   "source": [
    "# to get some statistics\n",
    "num_zero = 0\n",
    "num_no_effect = 0\n",
    "index = 0\n",
    "for line, label in zip(data['tag'], data['label']):\n",
    "    flag = False\n",
    "\n",
    "    if label == '0':\n",
    "        num_zero +=1\n",
    "        continue\n",
    "\n",
    "    for tag in line.split():\n",
    "        if tag == 'effect':\n",
    "            flag = True\n",
    "            break\n",
    "\n",
    "    if flag == False:\n",
    "        num_no_effect +=1\n",
    "        print(f\"{index} no effect\")\n",
    "\n",
    "    index +=1\n",
    "print(f\"number of no relations: {num_zero}\")\n",
    "print(f\"number of no effects: {num_no_effect}\")"
   ],
   "metadata": {
    "collapsed": false,
    "pycharm": {
     "name": "#%%\n"
    }
   }
  },
  {
   "cell_type": "code",
   "execution_count": 47,
   "outputs": [],
   "source": [
    "#Used for mapping the updated file where data is already split\n",
    "data = pd.read_csv('Data/rebel/relation_data_updated.csv')\n",
    "data= data.drop(data.columns[[0, 1, 2, 6, 8]], axis=1)\n",
    "data = data[data.label != str(0)]\n",
    "data = data.rename(columns={\"sentence\": \"context\"})\n",
    "data['triplets'] = '<triplets> ' + data['trigger1'] + ' <subj> ' + data['trigger2'] + ' <obj> ' + data['label'] #Add the suitable format\n",
    "data.to_csv('Data/rebel/rebel_format_v2.csv', index=False)"
   ],
   "metadata": {
    "collapsed": false,
    "pycharm": {
     "name": "#%%\n"
    }
   }
  }
 ],
 "metadata": {
  "kernelspec": {
   "display_name": "Python 3",
   "language": "python",
   "name": "python3"
  },
  "language_info": {
   "codemirror_mode": {
    "name": "ipython",
    "version": 2
   },
   "file_extension": ".py",
   "mimetype": "text/x-python",
   "name": "python",
   "nbconvert_exporter": "python",
   "pygments_lexer": "ipython2",
   "version": "2.7.6"
  }
 },
 "nbformat": 4,
 "nbformat_minor": 0
}