{
 "cells": [
  {
   "cell_type": "code",
   "execution_count": 2,
   "outputs": [],
   "source": [
    "import pandas as pd\n",
    "from nltk.tokenize import word_tokenize"
   ],
   "metadata": {
    "collapsed": false,
    "pycharm": {
     "name": "#%%\n"
    }
   }
  },
  {
   "cell_type": "code",
   "execution_count": 2,
   "outputs": [],
   "source": [
    "data = pd.read_csv('../Additional_eurecom_code/Event_extraction/data/joined_train.csv')"
   ],
   "metadata": {
    "collapsed": false,
    "pycharm": {
     "name": "#%%\n"
    }
   }
  },
  {
   "cell_type": "code",
   "execution_count": 3,
   "outputs": [],
   "source": [
    "data = data.drop(data.columns[[0, 1]], axis=1)"
   ],
   "metadata": {
    "collapsed": false,
    "pycharm": {
     "name": "#%%\n"
    }
   }
  },
  {
   "cell_type": "code",
   "execution_count": null,
   "outputs": [],
   "source": [
    "data = data[data['tag'].str.contains('effect')].reset_index(drop=True) #Only keep entries that have an effect and thus a relation\n",
    "data.head(20)"
   ],
   "metadata": {
    "collapsed": false,
    "pycharm": {
     "name": "#%%\n",
     "is_executing": true
    }
   }
  },
  {
   "cell_type": "code",
   "execution_count": 5,
   "outputs": [
    {
     "data": {
      "text/plain": "'The United Nations has imposed a travel ban on North Korea in an effort to prevent the country from acquiring weapons of mass destruction.'"
     },
     "execution_count": 5,
     "metadata": {},
     "output_type": "execute_result"
    }
   ],
   "source": [
    "data.iloc[18]['text']"
   ],
   "metadata": {
    "collapsed": false,
    "pycharm": {
     "name": "#%%\n"
    }
   }
  },
  {
   "cell_type": "code",
   "execution_count": 23,
   "outputs": [
    {
     "name": "stdout",
     "output_type": "stream",
     "text": [
      "Number of skipped: 245\n"
     ]
    }
   ],
   "source": [
    "\"\"\"\n",
    "assumtpions:\n",
    "- One subject and one object\n",
    "- Every line has an effect\n",
    "\"\"\"\n",
    "\n",
    "data = data[data['tag'].str.contains('effect')] #Only keep entries that have an effect and thus a relation\n",
    "triplets = []\n",
    "labels = []\n",
    "context = []\n",
    "skipped = 0\n",
    "\n",
    "for index, row in data.iterrows():\n",
    "\n",
    "    sub_obj = {}\n",
    "\n",
    "    tokenize_text = word_tokenize(row['text'])\n",
    "    split_tags = row['tag'].split()\n",
    "\n",
    "    if len(tokenize_text) != len(split_tags): #This means the tags and tokens do not overlap correctly, hence results are wrong.\n",
    "        skipped += 1\n",
    "        continue\n",
    "\n",
    "    for word, tag in zip(tokenize_text, split_tags):\n",
    "\n",
    "        if tag != '0': #an entity is detected\n",
    "\n",
    "            if tag in sub_obj: #This means that the entity consists of 2 words\n",
    "                sub_obj[tag] += f' {word}'\n",
    "            else:\n",
    "                sub_obj[tag] = word\n",
    "\n",
    "    for key, value in sub_obj.items():\n",
    "        if key != 'effect': #all other relations are the subjects\n",
    "            subject = value\n",
    "        else: #Effect is always the object\n",
    "            object = value\n",
    "\n",
    "    triplets.append(f\"<triplet> {subject} <subj> {object} <obj> {row['label']}\")\n",
    "    labels.append(row['label'])\n",
    "    context.append(row['text'])\n",
    "\n",
    "final_data = pd.DataFrame(list(zip(range(len(triplets)), range(len(triplets)), context, triplets)),\n",
    "                          columns = ['id', 'title', 'context', 'triplets'])\n",
    "\n",
    "final_data.to_csv('Data/rebel_format.csv', index=False)\n",
    "print(f\"Number of skipped: {skipped}\")"
   ],
   "metadata": {
    "collapsed": false,
    "pycharm": {
     "name": "#%%\n"
    }
   }
  },
  {
   "cell_type": "code",
   "execution_count": 21,
   "outputs": [
    {
     "data": {
      "text/plain": "        id  title                                            context  \\\n0        0      0  The government passed a law to increase access...   \n1        1      1  The United Nations has imposed an arms embargo...   \n2        2      2  The European Union has imposed economic sancti...   \n3        3      3  It was a surprise move that could clear the wa...   \n4        4      4  The government introduced a new law to protect...   \n...    ...    ...                                                ...   \n1572  1572   1572  The government passed a law to increase access...   \n1573  1573   1573  The United States Congress passed a law to inc...   \n1574  1574   1574  The company has acknowledged a software glitch...   \n1575  1575   1575  The government passed a law to increase access...   \n1576  1576   1576  The World Trade Organization has adopted a new...   \n\n                                               triplets  \n0             <triplet> increase <subj> to <obj> intend  \n1     <triplet> arms embargo <subj> terrorist activi...  \n2     <triplet> sanctions <subj> interfering <obj> p...  \n3                <triplet> move <subj> run <obj> enable  \n4     <triplet> introduced <subj> recognize <obj> in...  \n...                                                 ...  \n1572        <triplet> passed <subj> reduce <obj> intend  \n1573       <triplet> passed <subj> improve <obj> intend  \n1574  <triplet> causing <subj> acknowledged <obj> cause  \n1575          <triplet> increase <subj> to <obj> intend  \n1576     <triplet> agreement <subj> reduce <obj> enable  \n\n[1577 rows x 4 columns]",
      "text/html": "<div>\n<style scoped>\n    .dataframe tbody tr th:only-of-type {\n        vertical-align: middle;\n    }\n\n    .dataframe tbody tr th {\n        vertical-align: top;\n    }\n\n    .dataframe thead th {\n        text-align: right;\n    }\n</style>\n<table border=\"1\" class=\"dataframe\">\n  <thead>\n    <tr style=\"text-align: right;\">\n      <th></th>\n      <th>id</th>\n      <th>title</th>\n      <th>context</th>\n      <th>triplets</th>\n    </tr>\n  </thead>\n  <tbody>\n    <tr>\n      <th>0</th>\n      <td>0</td>\n      <td>0</td>\n      <td>The government passed a law to increase access...</td>\n      <td>&lt;triplet&gt; increase &lt;subj&gt; to &lt;obj&gt; intend</td>\n    </tr>\n    <tr>\n      <th>1</th>\n      <td>1</td>\n      <td>1</td>\n      <td>The United Nations has imposed an arms embargo...</td>\n      <td>&lt;triplet&gt; arms embargo &lt;subj&gt; terrorist activi...</td>\n    </tr>\n    <tr>\n      <th>2</th>\n      <td>2</td>\n      <td>2</td>\n      <td>The European Union has imposed economic sancti...</td>\n      <td>&lt;triplet&gt; sanctions &lt;subj&gt; interfering &lt;obj&gt; p...</td>\n    </tr>\n    <tr>\n      <th>3</th>\n      <td>3</td>\n      <td>3</td>\n      <td>It was a surprise move that could clear the wa...</td>\n      <td>&lt;triplet&gt; move &lt;subj&gt; run &lt;obj&gt; enable</td>\n    </tr>\n    <tr>\n      <th>4</th>\n      <td>4</td>\n      <td>4</td>\n      <td>The government introduced a new law to protect...</td>\n      <td>&lt;triplet&gt; introduced &lt;subj&gt; recognize &lt;obj&gt; in...</td>\n    </tr>\n    <tr>\n      <th>...</th>\n      <td>...</td>\n      <td>...</td>\n      <td>...</td>\n      <td>...</td>\n    </tr>\n    <tr>\n      <th>1572</th>\n      <td>1572</td>\n      <td>1572</td>\n      <td>The government passed a law to increase access...</td>\n      <td>&lt;triplet&gt; passed &lt;subj&gt; reduce &lt;obj&gt; intend</td>\n    </tr>\n    <tr>\n      <th>1573</th>\n      <td>1573</td>\n      <td>1573</td>\n      <td>The United States Congress passed a law to inc...</td>\n      <td>&lt;triplet&gt; passed &lt;subj&gt; improve &lt;obj&gt; intend</td>\n    </tr>\n    <tr>\n      <th>1574</th>\n      <td>1574</td>\n      <td>1574</td>\n      <td>The company has acknowledged a software glitch...</td>\n      <td>&lt;triplet&gt; causing &lt;subj&gt; acknowledged &lt;obj&gt; cause</td>\n    </tr>\n    <tr>\n      <th>1575</th>\n      <td>1575</td>\n      <td>1575</td>\n      <td>The government passed a law to increase access...</td>\n      <td>&lt;triplet&gt; increase &lt;subj&gt; to &lt;obj&gt; intend</td>\n    </tr>\n    <tr>\n      <th>1576</th>\n      <td>1576</td>\n      <td>1576</td>\n      <td>The World Trade Organization has adopted a new...</td>\n      <td>&lt;triplet&gt; agreement &lt;subj&gt; reduce &lt;obj&gt; enable</td>\n    </tr>\n  </tbody>\n</table>\n<p>1577 rows × 4 columns</p>\n</div>"
     },
     "execution_count": 21,
     "metadata": {},
     "output_type": "execute_result"
    }
   ],
   "source": [
    "final_data"
   ],
   "metadata": {
    "collapsed": false,
    "pycharm": {
     "name": "#%%\n"
    }
   }
  },
  {
   "cell_type": "code",
   "execution_count": 27,
   "outputs": [
    {
     "name": "stdout",
     "output_type": "stream",
     "text": [
      "25 no effect\n",
      "122 no effect\n",
      "123 no effect\n",
      "255 no effect\n",
      "353 no effect\n",
      "461 no effect\n",
      "519 no effect\n",
      "544 no effect\n",
      "646 no effect\n",
      "650 no effect\n",
      "736 no effect\n",
      "800 no effect\n",
      "880 no effect\n",
      "935 no effect\n",
      "1023 no effect\n",
      "1097 no effect\n",
      "1203 no effect\n",
      "1227 no effect\n",
      "1272 no effect\n",
      "1347 no effect\n",
      "1387 no effect\n",
      "1704 no effect\n",
      "1785 no effect\n",
      "1816 no effect\n",
      "number of no relations: 96\n",
      "number of no effects: 24\n"
     ]
    }
   ],
   "source": [
    "# to get some statistics\n",
    "num_zero = 0\n",
    "num_no_effect = 0\n",
    "index = 0\n",
    "for line, label in zip(data['tag'], data['label']):\n",
    "    flag = False\n",
    "\n",
    "    if label == '0':\n",
    "        num_zero +=1\n",
    "        continue\n",
    "\n",
    "    for tag in line.split():\n",
    "        if tag == 'effect':\n",
    "            flag = True\n",
    "            break\n",
    "\n",
    "    if flag == False:\n",
    "        num_no_effect +=1\n",
    "        print(f\"{index} no effect\")\n",
    "\n",
    "    index +=1\n",
    "print(f\"number of no relations: {num_zero}\")\n",
    "print(f\"number of no effects: {num_no_effect}\")"
   ],
   "metadata": {
    "collapsed": false,
    "pycharm": {
     "name": "#%%\n"
    }
   }
  },
  {
   "cell_type": "code",
   "execution_count": 130,
   "outputs": [],
   "source": [
    "data = pd.read_csv('Data/rebel/relation_data_updated.csv')\n",
    "data= data.drop(data.columns[[0, 1, 2, 6, 8]], axis=1)\n",
    "data = data[data.label != str(0)]\n",
    "\n",
    "data['triplets'] = '<triplets> ' + data['trigger1'] + ' <subj> ' + data['trigger2'] + ' <obj> ' + data['label'] #Add the suitable format"
   ],
   "metadata": {
    "collapsed": false,
    "pycharm": {
     "name": "#%%\n"
    }
   }
  },
  {
   "cell_type": "code",
   "execution_count": 35,
   "outputs": [
    {
     "data": {
      "text/plain": "                                               sentence  trigger1  \\\n0     The government has implemented a series of law...      Laws   \n1     The government has implemented a series of law...      Laws   \n2     The government has implemented a series of law...      Laws   \n3     The government has implemented a series of law...      Laws   \n4     The government has implemented a series of mea...  Measures   \n...                                                 ...       ...   \n2092  DPC, an investor group led by New York-based C...       NaN   \n2093  But they failed to sell these stocks to client...       NaN   \n2094  The country has lifted nearly all virus-relate...       NaN   \n2096  The episode, a \"distributed denial-of-service\"...       NaN   \n2097  National electricity company spokesman Mostafa...       NaN   \n\n                            trigger2    label  \\\n0             Unfair Labor Practices  prevent   \n1                          Pollution  prevent   \n2                 Dangerous Products  prevent   \n3     Fraudulent Financial Practices  prevent   \n4                        Trafficking  prevent   \n...                              ...      ...   \n2092                             NaN   intend   \n2093                             NaN    cause   \n2094                             NaN   enable   \n2096                             NaN  prevent   \n2097                             NaN   enable   \n\n                                               triplets  \n0     <triplets> Laws <subj> Unfair Labor Practices ...  \n1        <triplets> Laws <subj> Pollution <obj> prevent  \n2     <triplets> Laws <subj> Dangerous Products <obj...  \n3     <triplets> Laws <subj> Fraudulent Financial Pr...  \n4     <triplets> Measures <subj> Trafficking <obj> p...  \n...                                                 ...  \n2092                                                NaN  \n2093                                                NaN  \n2094                                                NaN  \n2096                                                NaN  \n2097                                                NaN  \n\n[2036 rows x 5 columns]",
      "text/html": "<div>\n<style scoped>\n    .dataframe tbody tr th:only-of-type {\n        vertical-align: middle;\n    }\n\n    .dataframe tbody tr th {\n        vertical-align: top;\n    }\n\n    .dataframe thead th {\n        text-align: right;\n    }\n</style>\n<table border=\"1\" class=\"dataframe\">\n  <thead>\n    <tr style=\"text-align: right;\">\n      <th></th>\n      <th>sentence</th>\n      <th>trigger1</th>\n      <th>trigger2</th>\n      <th>label</th>\n      <th>triplets</th>\n    </tr>\n  </thead>\n  <tbody>\n    <tr>\n      <th>0</th>\n      <td>The government has implemented a series of law...</td>\n      <td>Laws</td>\n      <td>Unfair Labor Practices</td>\n      <td>prevent</td>\n      <td>&lt;triplets&gt; Laws &lt;subj&gt; Unfair Labor Practices ...</td>\n    </tr>\n    <tr>\n      <th>1</th>\n      <td>The government has implemented a series of law...</td>\n      <td>Laws</td>\n      <td>Pollution</td>\n      <td>prevent</td>\n      <td>&lt;triplets&gt; Laws &lt;subj&gt; Pollution &lt;obj&gt; prevent</td>\n    </tr>\n    <tr>\n      <th>2</th>\n      <td>The government has implemented a series of law...</td>\n      <td>Laws</td>\n      <td>Dangerous Products</td>\n      <td>prevent</td>\n      <td>&lt;triplets&gt; Laws &lt;subj&gt; Dangerous Products &lt;obj...</td>\n    </tr>\n    <tr>\n      <th>3</th>\n      <td>The government has implemented a series of law...</td>\n      <td>Laws</td>\n      <td>Fraudulent Financial Practices</td>\n      <td>prevent</td>\n      <td>&lt;triplets&gt; Laws &lt;subj&gt; Fraudulent Financial Pr...</td>\n    </tr>\n    <tr>\n      <th>4</th>\n      <td>The government has implemented a series of mea...</td>\n      <td>Measures</td>\n      <td>Trafficking</td>\n      <td>prevent</td>\n      <td>&lt;triplets&gt; Measures &lt;subj&gt; Trafficking &lt;obj&gt; p...</td>\n    </tr>\n    <tr>\n      <th>...</th>\n      <td>...</td>\n      <td>...</td>\n      <td>...</td>\n      <td>...</td>\n      <td>...</td>\n    </tr>\n    <tr>\n      <th>2092</th>\n      <td>DPC, an investor group led by New York-based C...</td>\n      <td>NaN</td>\n      <td>NaN</td>\n      <td>intend</td>\n      <td>NaN</td>\n    </tr>\n    <tr>\n      <th>2093</th>\n      <td>But they failed to sell these stocks to client...</td>\n      <td>NaN</td>\n      <td>NaN</td>\n      <td>cause</td>\n      <td>NaN</td>\n    </tr>\n    <tr>\n      <th>2094</th>\n      <td>The country has lifted nearly all virus-relate...</td>\n      <td>NaN</td>\n      <td>NaN</td>\n      <td>enable</td>\n      <td>NaN</td>\n    </tr>\n    <tr>\n      <th>2096</th>\n      <td>The episode, a \"distributed denial-of-service\"...</td>\n      <td>NaN</td>\n      <td>NaN</td>\n      <td>prevent</td>\n      <td>NaN</td>\n    </tr>\n    <tr>\n      <th>2097</th>\n      <td>National electricity company spokesman Mostafa...</td>\n      <td>NaN</td>\n      <td>NaN</td>\n      <td>enable</td>\n      <td>NaN</td>\n    </tr>\n  </tbody>\n</table>\n<p>2036 rows × 5 columns</p>\n</div>"
     },
     "execution_count": 35,
     "metadata": {},
     "output_type": "execute_result"
    }
   ],
   "source": [
    "data"
   ],
   "metadata": {
    "collapsed": false,
    "pycharm": {
     "name": "#%%\n"
    }
   }
  },
  {
   "cell_type": "code",
   "execution_count": 106,
   "outputs": [
    {
     "data": {
      "text/plain": "  Subject        Object Relation\n0    old    unreliable     cause\n1   died         storm     cause",
      "text/html": "<div>\n<style scoped>\n    .dataframe tbody tr th:only-of-type {\n        vertical-align: middle;\n    }\n\n    .dataframe tbody tr th {\n        vertical-align: top;\n    }\n\n    .dataframe thead th {\n        text-align: right;\n    }\n</style>\n<table border=\"1\" class=\"dataframe\">\n  <thead>\n    <tr style=\"text-align: right;\">\n      <th></th>\n      <th>Subject</th>\n      <th>Object</th>\n      <th>Relation</th>\n    </tr>\n  </thead>\n  <tbody>\n    <tr>\n      <th>0</th>\n      <td>old</td>\n      <td>unreliable</td>\n      <td>cause</td>\n    </tr>\n    <tr>\n      <th>1</th>\n      <td>died</td>\n      <td>storm</td>\n      <td>cause</td>\n    </tr>\n  </tbody>\n</table>\n</div>"
     },
     "execution_count": 106,
     "metadata": {},
     "output_type": "execute_result"
    }
   ],
   "source": [
    "#This piece is used to extract the triples again\n",
    "import re\n",
    "\n",
    "sample_strings = ['<s><triplet> old <subj> unreliable <obj> cause</s><pad>', '<s><triplet> died <subj> storm <obj> cause</s><pad>']\n",
    "pattern = r'>([^<]+)'\n",
    "matches = [re.findall(pattern, instance) for instance in sample_strings]\n",
    "df = pd.DataFrame(matches, columns =['Subject', 'Object', 'Relation'])\n",
    "del matches"
   ],
   "metadata": {
    "collapsed": false,
    "pycharm": {
     "name": "#%%\n"
    }
   }
  },
  {
   "cell_type": "code",
   "execution_count": 114,
   "outputs": [],
   "source": [
    "#Todo:\n",
    "#Encode it using adjusted labelencoder\n",
    "#Compute precision, recall\n",
    "\n",
    "from sklearn import preprocessing\n",
    "le_subject= preprocessing.LabelEncoder()\n",
    "\n",
    "le_subject.fit(df['Subject'])\n",
    "le_dict = dict(zip(le_subject.classes_, le_subject.transform(le_subject.classes_)))\n",
    "\n",
    "df['Subject_encoding'] = df['Subject'].apply(lambda x: le_dict.get(x, 999999999)) #to run it over a column, high value otherwise to remain a number"
   ],
   "metadata": {
    "collapsed": false,
    "pycharm": {
     "name": "#%%\n"
    }
   }
  },
  {
   "cell_type": "code",
   "execution_count": 141,
   "outputs": [
    {
     "name": "stdout",
     "output_type": "stream",
     "text": [
      "{'f1': 1.0}\n"
     ]
    }
   ],
   "source": [
    "import evaluate\n",
    "f1_metric = evaluate.load(\"f1\")\n",
    "results = f1_metric.compute(predictions=df['Subject_encoding'].to_list(), references=df['Subject_encoding'].to_list())\n",
    "print(results)"
   ],
   "metadata": {
    "collapsed": false,
    "pycharm": {
     "name": "#%%\n"
    }
   }
  },
  {
   "cell_type": "code",
   "execution_count": null,
   "outputs": [],
   "source": [],
   "metadata": {
    "collapsed": false,
    "pycharm": {
     "name": "#%%\n"
    }
   }
  }
 ],
 "metadata": {
  "kernelspec": {
   "display_name": "Python 3",
   "language": "python",
   "name": "python3"
  },
  "language_info": {
   "codemirror_mode": {
    "name": "ipython",
    "version": 2
   },
   "file_extension": ".py",
   "mimetype": "text/x-python",
   "name": "python",
   "nbconvert_exporter": "python",
   "pygments_lexer": "ipython2",
   "version": "2.7.6"
  }
 },
 "nbformat": 4,
 "nbformat_minor": 0
}