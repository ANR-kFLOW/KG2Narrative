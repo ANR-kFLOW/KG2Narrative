{
 "cells": [
  {
   "cell_type": "code",
   "execution_count": 4,
   "outputs": [],
   "source": [
    "#Used for data that is already split into trigger1, trigger2 and label\n",
    "def convert_to_rebel(data):\n",
    "    data = data[data.label != str(0)]\n",
    "    data = data.rename(columns={\"sentence\": \"context\"})\n",
    "    data['triplets'] = '<triplet> ' + data['trigger1'] + ' <subj> ' + data['trigger2'] + ' <obj> ' + data['label'] #Add the suitable format\n",
    "    data = data.drop(['trigger1', 'trigger2', 'label'], axis=1)\n",
    "    return data"
   ],
   "metadata": {
    "collapsed": false,
    "pycharm": {
     "name": "#%%\n"
    }
   }
  },
  {
   "cell_type": "code",
   "execution_count": 9,
   "outputs": [
    {
     "name": "stdout",
     "output_type": "stream",
     "text": [
      "Total non-synthetic: 632\n"
     ]
    }
   ],
   "source": [
    "#Creating testset, using the non-synthetic sets, and checking if they occur in the train set of rebel\n",
    "import pandas as pd\n",
    "from sklearn.model_selection import train_test_split\n",
    "\n",
    "enables = pd.read_csv('Data/rebel_v2/data/enables_stud.csv').drop(['verb'], axis=1)\n",
    "enables = enables.rename(columns={\"sentece\": \"sentence\", \"trigger_1\": \"trigger1\", \"trigger_2\": \"trigger2\"})\n",
    "intends = pd.read_csv('Data/rebel_v2/data/intend_left.csv')\n",
    "intends['sentence'] = intends['sentence'].apply(lambda x: x[1:] if x.startswith(',') else x)\n",
    "intends['sentence'] = intends['sentence'].apply(lambda x: x[2:] if x.startswith(' ,') else x)\n",
    "prevents = pd.read_csv('Data/rebel_v2/data/prevents_stud.csv').drop(['verb'], axis=1)\n",
    "prevents = prevents.rename(columns={\"sentece\": \"sentence\", \"trigger_1\": \"trigger1\", \"trigger_2\": \"trigger2\"})\n",
    "causes = pd.read_csv('Data/rebel_v2/data/our_data.csv') #This also contains more than just cause\n",
    "causes = causes.rename(columns={\"sentece\": \"sentence\", \"trigger_1\": \"trigger1\", \"trigger_2\": \"trigger2\"})\n",
    "\n",
    "total = pd.concat([enables, intends, prevents, causes]).reset_index()\n",
    "total = total[total['label'] != '0']\n",
    "total = total.drop(['index', 'Unnamed: 0.1', 'Unnamed: 0', 'tag'], axis=1)\n",
    "print(f\"Total non-synthetic: {len(total)}\")\n",
    "\n",
    "#total.to_csv('Data/rebel_v2/data/rebel_merged_non_synthetic.csv')\n",
    "\n",
    "rest_data, test_data = train_test_split(total, test_size=0.15, random_state=1, shuffle=True)\n",
    "#test_data.to_csv('Data/rebel_v2/data/new_split/test.csv')\n"
   ],
   "metadata": {
    "collapsed": false,
    "pycharm": {
     "name": "#%%\n"
    }
   }
  },
  {
   "cell_type": "code",
   "execution_count": 4,
   "outputs": [
    {
     "data": {
      "text/plain": "cause      283\nintend     137\nenable     118\nprevent     94\nName: label, dtype: int64"
     },
     "execution_count": 4,
     "metadata": {},
     "output_type": "execute_result"
    }
   ],
   "source": [
    "total['label'].value_counts()"
   ],
   "metadata": {
    "collapsed": false,
    "pycharm": {
     "name": "#%%\n"
    }
   }
  },
  {
   "cell_type": "code",
   "execution_count": 5,
   "outputs": [
    {
     "name": "stdout",
     "output_type": "stream",
     "text": [
      "Instances - Enable: 455 - Prevent: 553 - Intend: 478\n",
      "Total synthetic: 1486\n",
      "Total before drop: 2023\n",
      "Total after drop: 2001\n"
     ]
    }
   ],
   "source": [
    "enables = pd.read_csv('Data/rebel_v2/data/enables.csv')\n",
    "intends = pd.read_csv('Data/rebel_v2/data/intends.csv')\n",
    "prevents = pd.read_csv('Data/rebel_v2/data/prevents.csv')\n",
    "print(f\"Instances - Enable: {len(enables)} - Prevent: {len(prevents)} - Intend: {len(intends)}\")\n",
    "#Cause is the same dataset as loaded above\n",
    "#causes = causes.rename(columns={\"sentece\": \"sentence\", \"trigger_1\": \"trigger1\", \"trigger_2\": \"trigger2\"})\n",
    "print(f\"Total synthetic: {len(pd.concat([enables, intends, prevents]).reset_index(drop=True))}\")\n",
    "\n",
    "total = pd.concat([rest_data, enables, intends, prevents]).reset_index(drop=True)\n",
    "print(f\"Total before drop: {len(total)}\")\n",
    "total = total.drop(['Unnamed: 0.1', 'Unnamed: 0', 'tag'], axis= 1).drop_duplicates()\n",
    "total = total[total['label'] != '0']\n",
    "print(f\"Total after drop: {len(total)}\")\n",
    "\n",
    "total.to_csv('Data/rebel_v2/data/new_split/train_val_combined.csv')\n",
    "train_data, val_data = train_test_split(total, test_size=0.1, shuffle=True)\n",
    "train_data.to_csv('Data/rebel_v2/data/new_split/train.csv')\n",
    "val_data.to_csv('Data/rebel_v2/data/new_split/val.csv')\n"
   ],
   "metadata": {
    "collapsed": false,
    "pycharm": {
     "name": "#%%\n"
    }
   }
  },
  {
   "cell_type": "code",
   "execution_count": 10,
   "outputs": [],
   "source": [
    "train_data = pd.read_csv('Data/rebel_v2/data/new_split/train.csv').drop(['Unnamed: 0'], axis=1)\n",
    "val_data = pd.read_csv('Data/rebel_v2/data/new_split/val.csv').drop(['Unnamed: 0'], axis=1)\n",
    "test_data = pd.read_csv('Data/rebel_v2/data/new_split/test.csv').drop(['Unnamed: 0'], axis=1)\n",
    "\n",
    "train_data = convert_to_rebel(train_data)\n",
    "val_data = convert_to_rebel(val_data)\n",
    "test_data = convert_to_rebel(test_data)\n",
    "\n",
    "train_data.to_csv('Data/rebel_v2/data/new_split/train_rebel.csv')\n",
    "val_data.to_csv('Data/rebel_v2/data/new_split/val_rebel.csv')\n",
    "test_data.to_csv('Data/rebel_v2/data/new_split/test_rebel.csv')"
   ],
   "metadata": {
    "collapsed": false,
    "pycharm": {
     "name": "#%%\n"
    }
   }
  },
  {
   "cell_type": "code",
   "execution_count": 12,
   "outputs": [],
   "source": [
    "import pandas as pd\n",
    "data=pd.read_csv('Data/rebel_v2/data/new_split/train_val_combined.csv')\n",
    "data['triplets'] = '<triplet> ' + data['trigger1'] + ' <subj> ' + data['trigger2'] + ' <obj> ' + data['label'] #Add the suitable format\n",
    "data = data.sample(frac=1).reset_index(drop=True)\n",
    "data.to_csv('Data/rebel_v2/data/new_split/train_val_combined_rebel.csv')"
   ],
   "metadata": {
    "collapsed": false,
    "pycharm": {
     "name": "#%%\n"
    }
   }
  }
 ],
 "metadata": {
  "kernelspec": {
   "display_name": "Python 3",
   "language": "python",
   "name": "python3"
  },
  "language_info": {
   "codemirror_mode": {
    "name": "ipython",
    "version": 2
   },
   "file_extension": ".py",
   "mimetype": "text/x-python",
   "name": "python",
   "nbconvert_exporter": "python",
   "pygments_lexer": "ipython2",
   "version": "2.7.6"
  }
 },
 "nbformat": 4,
 "nbformat_minor": 0
}