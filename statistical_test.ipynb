{
 "cells": [
  {
   "cell_type": "markdown",
   "source": [
    "# Here the Fleiss' kappa is computed, and a statistical test will be done on the results"
   ],
   "metadata": {
    "collapsed": false,
    "pycharm": {
     "name": "#%% md\n"
    }
   }
  },
  {
   "cell_type": "code",
   "execution_count": 52,
   "outputs": [],
   "source": [
    "from statsmodels.stats import inter_rater as irr\n",
    "from statsmodels.stats.descriptivestats import sign_test\n",
    "import pandas as pd\n",
    "import numpy as np\n",
    "import os"
   ],
   "metadata": {
    "collapsed": false,
    "pycharm": {
     "name": "#%%\n"
    }
   }
  },
  {
   "cell_type": "code",
   "execution_count": 78,
   "outputs": [
    {
     "name": "stdout",
     "output_type": "stream",
     "text": [
      "Fleiss kappa for annotations\\article_adequacy.csv: 0.61\n",
      "wins: 58.3\n",
      "loses: 8.3\n",
      "ties: 33.3\n",
      "No significant difference is found with P value: 0.0703125\n",
      "\n",
      "Fleiss kappa for annotations\\article_fluency.csv: 0.73\n",
      "wins: 33.3\n",
      "loses: 16.7\n",
      "ties: 50.0\n",
      "No significant difference is found with P value: 0.6875\n",
      "\n",
      "Fleiss kappa for annotations\\event_adequacy.csv: 0.60\n",
      "wins: 28.6\n",
      "loses: 0.0\n",
      "ties: 71.4\n",
      "No significant difference is found with P value: 0.5\n",
      "\n",
      "Fleiss kappa for annotations\\event_fluency.csv: 1.00\n",
      "wins: 71.4\n",
      "loses: 14.3\n",
      "ties: 14.3\n",
      "No significant difference is found with P value: 0.21875\n",
      "\n"
     ]
    }
   ],
   "source": [
    "annotation_files = os.listdir('Data/annotations')\n",
    "mapping = {\"comb\" : 2, \"base\" : 1, \"tie\": 0} #Convert the classes\n",
    "\n",
    "for file_path in annotation_files:\n",
    "\n",
    "    file_path = os.path.join('Data/annotations', file_path)\n",
    "    file = pd.read_csv(file_path)\n",
    "    file=file.replace(mapping)\n",
    "\n",
    "    file_conv= file.to_numpy()\n",
    "    file_conv = irr.aggregate_raters(file) # returns a tuple (data, categories)\n",
    "    score = irr.fleiss_kappa(file_conv[0], method='fleiss')\n",
    "\n",
    "    print(f\"Fleiss kappa for {file_path.split('/')[-1]}: {score:.2f}\")\n",
    "\n",
    "    file['majority'] = file.mode(axis=1)[0]\n",
    "\n",
    "    try:\n",
    "        wins = len(file[file['majority'] == 2]) / len(file)\n",
    "    except:\n",
    "        wins = 0.0\n",
    "\n",
    "    try:\n",
    "        loses = len(file[file['majority'] == 1]) / len(file)\n",
    "    except:\n",
    "        loses = 0.0\n",
    "\n",
    "    ties = 1.0-wins-loses\n",
    "\n",
    "    print(f\"wins: {(wins*100):.1f}\")\n",
    "    print(f\"loses: {(loses*100):.1f}\")\n",
    "    print(f\"ties: {(ties*100):.1f}\")\n",
    "\n",
    "    values = file['majority'][file['majority']>0].to_numpy()\n",
    "    result = sign_test(values, mu0=1.1)[1]\n",
    "\n",
    "    if result <= 0.05:\n",
    "        print(f\"A significant difference is found with P value: {result}\\n\")\n",
    "\n",
    "    else:\n",
    "        print(f\"No significant difference is found with P value: {result}\\n\")\n"
   ],
   "metadata": {
    "collapsed": false,
    "pycharm": {
     "name": "#%%\n"
    }
   }
  },
  {
   "cell_type": "code",
   "execution_count": 74,
   "outputs": [
    {
     "data": {
      "text/plain": "   Annotator_1 Annotator_2 Annotator_3 majority\n0          tie         tie        comb      tie\n1          tie         tie         tie      tie\n2         comb        comb        comb     comb\n3          tie         tie         tie      tie\n4         comb        comb         tie     comb\n5         base        base        base     base\n6         comb        comb        comb     comb\n7         comb         tie        comb     comb\n8         comb        comb        comb     comb\n9          tie         tie         tie      tie\n10        comb        comb        comb     comb\n11        comb         tie        comb     comb",
      "text/html": "<div>\n<style scoped>\n    .dataframe tbody tr th:only-of-type {\n        vertical-align: middle;\n    }\n\n    .dataframe tbody tr th {\n        vertical-align: top;\n    }\n\n    .dataframe thead th {\n        text-align: right;\n    }\n</style>\n<table border=\"1\" class=\"dataframe\">\n  <thead>\n    <tr style=\"text-align: right;\">\n      <th></th>\n      <th>Annotator_1</th>\n      <th>Annotator_2</th>\n      <th>Annotator_3</th>\n      <th>majority</th>\n    </tr>\n  </thead>\n  <tbody>\n    <tr>\n      <th>0</th>\n      <td>tie</td>\n      <td>tie</td>\n      <td>comb</td>\n      <td>tie</td>\n    </tr>\n    <tr>\n      <th>1</th>\n      <td>tie</td>\n      <td>tie</td>\n      <td>tie</td>\n      <td>tie</td>\n    </tr>\n    <tr>\n      <th>2</th>\n      <td>comb</td>\n      <td>comb</td>\n      <td>comb</td>\n      <td>comb</td>\n    </tr>\n    <tr>\n      <th>3</th>\n      <td>tie</td>\n      <td>tie</td>\n      <td>tie</td>\n      <td>tie</td>\n    </tr>\n    <tr>\n      <th>4</th>\n      <td>comb</td>\n      <td>comb</td>\n      <td>tie</td>\n      <td>comb</td>\n    </tr>\n    <tr>\n      <th>5</th>\n      <td>base</td>\n      <td>base</td>\n      <td>base</td>\n      <td>base</td>\n    </tr>\n    <tr>\n      <th>6</th>\n      <td>comb</td>\n      <td>comb</td>\n      <td>comb</td>\n      <td>comb</td>\n    </tr>\n    <tr>\n      <th>7</th>\n      <td>comb</td>\n      <td>tie</td>\n      <td>comb</td>\n      <td>comb</td>\n    </tr>\n    <tr>\n      <th>8</th>\n      <td>comb</td>\n      <td>comb</td>\n      <td>comb</td>\n      <td>comb</td>\n    </tr>\n    <tr>\n      <th>9</th>\n      <td>tie</td>\n      <td>tie</td>\n      <td>tie</td>\n      <td>tie</td>\n    </tr>\n    <tr>\n      <th>10</th>\n      <td>comb</td>\n      <td>comb</td>\n      <td>comb</td>\n      <td>comb</td>\n    </tr>\n    <tr>\n      <th>11</th>\n      <td>comb</td>\n      <td>tie</td>\n      <td>comb</td>\n      <td>comb</td>\n    </tr>\n  </tbody>\n</table>\n</div>"
     },
     "execution_count": 74,
     "metadata": {},
     "output_type": "execute_result"
    }
   ],
   "source": [
    "file = pd.read_csv(\"Data/annotations/article_adequacy.csv\")\n",
    "file['majority'] = file.mode(axis=1)[0]\n",
    "file"
   ],
   "metadata": {
    "collapsed": false,
    "pycharm": {
     "name": "#%%\n"
    }
   }
  },
  {
   "cell_type": "code",
   "execution_count": null,
   "outputs": [],
   "source": [],
   "metadata": {
    "collapsed": false,
    "pycharm": {
     "name": "#%%\n"
    }
   }
  }
 ],
 "metadata": {
  "kernelspec": {
   "display_name": "Python 3",
   "language": "python",
   "name": "python3"
  },
  "language_info": {
   "codemirror_mode": {
    "name": "ipython",
    "version": 2
   },
   "file_extension": ".py",
   "mimetype": "text/x-python",
   "name": "python",
   "nbconvert_exporter": "python",
   "pygments_lexer": "ipython2",
   "version": "2.7.6"
  }
 },
 "nbformat": 4,
 "nbformat_minor": 0
}