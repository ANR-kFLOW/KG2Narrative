{
 "cells": [
  {
   "cell_type": "markdown",
   "source": [
    "# Here the Fleiss' kappa is computed, and a statistical test will be done on the results"
   ],
   "metadata": {
    "collapsed": false,
    "pycharm": {
     "name": "#%% md\n"
    }
   }
  },
  {
   "cell_type": "code",
   "execution_count": 2,
   "outputs": [],
   "source": [
    "from statsmodels.stats import inter_rater as irr\n",
    "from scipy.stats import binomtest\n",
    "import pandas as pd\n",
    "import numpy as np\n",
    "import os"
   ],
   "metadata": {
    "collapsed": false,
    "pycharm": {
     "name": "#%%\n"
    }
   }
  },
  {
   "cell_type": "code",
   "execution_count": 19,
   "outputs": [
    {
     "name": "stdout",
     "output_type": "stream",
     "text": [
      "Fleiss kappa for group_ties\\article_adequacy.csv: 0.61\n",
      "wins: 58.3\t 7\n",
      "loses: 8.3\t 1\n",
      "ties: 33.3\t 4\n",
      "A significant difference is found with P value: 0.04\n",
      "\n",
      "Fleiss kappa for group_ties\\article_fluency.csv: 0.73\n",
      "wins: 33.3\t 4\n",
      "loses: 16.7\t 2\n",
      "ties: 50.0\t 6\n",
      "No significant difference is found with P value: 0.34\n",
      "\n",
      "Fleiss kappa for group_ties\\event_adequacy.csv: 0.60\n",
      "wins: 28.6\t 2\n",
      "loses: 0.0\t 0\n",
      "ties: 71.4\t 5\n",
      "No significant difference is found with P value: 0.25\n",
      "\n",
      "Fleiss kappa for group_ties\\event_fluency.csv: 1.00\n",
      "wins: 71.4\t 5\n",
      "loses: 14.3\t 1\n",
      "ties: 14.3\t 1\n",
      "No significant difference is found with P value: 0.11\n",
      "\n"
     ]
    }
   ],
   "source": [
    "annotation_files = os.listdir('Data/annotations/group_ties')\n",
    "mapping = {\"comb\" : 2, \"base\" : 1, \"tie\": 0} #Convert the classes\n",
    "\n",
    "for file_path in annotation_files:\n",
    "\n",
    "    file_path = os.path.join('Data/annotations/group_ties', file_path)\n",
    "    file = pd.read_csv(file_path)\n",
    "    file=file.replace(mapping)\n",
    "\n",
    "    file_conv= file.to_numpy()\n",
    "    file_conv = irr.aggregate_raters(file) # returns a tuple (data, categories)\n",
    "    score = irr.fleiss_kappa(file_conv[0], method='fleiss')\n",
    "\n",
    "    print(f\"Fleiss kappa for {file_path.split('/')[-1]}: {score:.2f}\")\n",
    "\n",
    "    file['majority'] = file.mode(axis=1)[0]\n",
    "\n",
    "    try:\n",
    "        wins = len(file[file['majority'] == 2]) / len(file)\n",
    "    except:\n",
    "        wins = 0.0\n",
    "\n",
    "    try:\n",
    "        loses = len(file[file['majority'] == 1]) / len(file)\n",
    "    except:\n",
    "        loses = 0.0\n",
    "\n",
    "    ties = 1.0-wins-loses\n",
    "\n",
    "    number_of_wins = len(file[file['majority'] == 2])\n",
    "    number_of_loses = len(file[file['majority'] == 1])\n",
    "    number_of_ties = len(file[file['majority'] == 0])\n",
    "\n",
    "    print(f\"wins: {(wins*100):.1f}\\t {number_of_wins}\")\n",
    "    print(f\"loses: {(loses*100):.1f}\\t {number_of_loses}\")\n",
    "    print(f\"ties: {(ties*100):.1f}\\t {number_of_ties}\")\n",
    "\n",
    "    result = binomtest(number_of_wins, number_of_wins+number_of_loses, alternative='greater')\n",
    "\n",
    "    if result.pvalue <= 0.05:\n",
    "        print(f\"A significant difference is found with P value: {result.pvalue:.2f}\\n\")\n",
    "\n",
    "    else:\n",
    "        print(f\"No significant difference is found with P value: {result.pvalue:.2f}\\n\")\n"
   ],
   "metadata": {
    "collapsed": false,
    "pycharm": {
     "name": "#%%\n"
    }
   }
  }
 ],
 "metadata": {
  "kernelspec": {
   "display_name": "Python 3",
   "language": "python",
   "name": "python3"
  },
  "language_info": {
   "codemirror_mode": {
    "name": "ipython",
    "version": 2
   },
   "file_extension": ".py",
   "mimetype": "text/x-python",
   "name": "python",
   "nbconvert_exporter": "python",
   "pygments_lexer": "ipython2",
   "version": "2.7.6"
  }
 },
 "nbformat": 4,
 "nbformat_minor": 0
}