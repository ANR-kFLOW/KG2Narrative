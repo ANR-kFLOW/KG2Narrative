{
 "cells": [
  {
   "cell_type": "markdown",
   "source": [
    "# Here the Fleiss' kappa is computed, and a statistical test will be done on the results"
   ],
   "metadata": {
    "collapsed": false,
    "pycharm": {
     "name": "#%% md\n"
    }
   }
  },
  {
   "cell_type": "code",
   "execution_count": 2,
   "outputs": [],
   "source": [
    "from statsmodels.stats import inter_rater as irr\n",
    "from statsmodels.stats.descriptivestats import sign_test\n",
    "import pandas as pd\n",
    "import numpy as np\n",
    "import os"
   ],
   "metadata": {
    "collapsed": false,
    "pycharm": {
     "name": "#%%\n"
    }
   }
  },
  {
   "cell_type": "code",
   "execution_count": 3,
   "outputs": [
    {
     "name": "stdout",
     "output_type": "stream",
     "text": [
      "Fleiss kappa for group_ties\\article_adequacy.csv: 0.61\n",
      "wins: 58.3\n",
      "loses: 8.3\n",
      "ties: 33.3\n",
      "No significant difference is found with P value: 0.0703125\n",
      "\n",
      "------\n",
      "(3.0, 0.0703125)\n",
      "\n",
      "\n",
      "Fleiss kappa for group_ties\\article_fluency.csv: 0.73\n",
      "wins: 33.3\n",
      "loses: 16.7\n",
      "ties: 50.0\n",
      "No significant difference is found with P value: 0.6875\n",
      "\n",
      "------\n",
      "(1.0, 0.6875)\n",
      "\n",
      "\n",
      "Fleiss kappa for group_ties\\event_adequacy.csv: 0.60\n",
      "wins: 28.6\n",
      "loses: 0.0\n",
      "ties: 71.4\n",
      "No significant difference is found with P value: 0.5\n",
      "\n",
      "------\n",
      "(1.0, 0.5)\n",
      "\n",
      "\n",
      "Fleiss kappa for group_ties\\event_fluency.csv: 1.00\n",
      "wins: 71.4\n",
      "loses: 14.3\n",
      "ties: 14.3\n",
      "No significant difference is found with P value: 0.21875\n",
      "\n",
      "------\n",
      "(2.0, 0.21875)\n",
      "\n",
      "\n"
     ]
    }
   ],
   "source": [
    "annotation_files = os.listdir('Data/annotations/group_ties')\n",
    "mapping = {\"comb\" : 2, \"base\" : 1, \"tie\": 0} #Convert the classes\n",
    "\n",
    "for file_path in annotation_files:\n",
    "\n",
    "    file_path = os.path.join('Data/annotations/group_ties', file_path)\n",
    "    file = pd.read_csv(file_path)\n",
    "    file=file.replace(mapping)\n",
    "\n",
    "    file_conv= file.to_numpy()\n",
    "    file_conv = irr.aggregate_raters(file) # returns a tuple (data, categories)\n",
    "    score = irr.fleiss_kappa(file_conv[0], method='fleiss')\n",
    "\n",
    "    print(f\"Fleiss kappa for {file_path.split('/')[-1]}: {score:.2f}\")\n",
    "\n",
    "    file['majority'] = file.mode(axis=1)[0]\n",
    "\n",
    "    try:\n",
    "        wins = len(file[file['majority'] == 2]) / len(file)\n",
    "    except:\n",
    "        wins = 0.0\n",
    "\n",
    "    try:\n",
    "        loses = len(file[file['majority'] == 1]) / len(file)\n",
    "    except:\n",
    "        loses = 0.0\n",
    "\n",
    "    ties = 1.0-wins-loses\n",
    "\n",
    "    print(f\"wins: {(wins*100):.1f}\")\n",
    "    print(f\"loses: {(loses*100):.1f}\")\n",
    "    print(f\"ties: {(ties*100):.1f}\")\n",
    "\n",
    "    values = file['majority'][file['majority']>0].to_numpy()\n",
    "    result_full = sign_test(values, mu0=1.1)\n",
    "    result = sign_test(values, mu0=1.1)[1]\n",
    "\n",
    "    if result <= 0.05:\n",
    "        print(f\"A significant difference is found with P value: {result}\\n\")\n",
    "\n",
    "    else:\n",
    "        print(f\"No significant difference is found with P value: {result}\\n\")\n",
    "\n",
    "    print(\"------\")\n",
    "    print(result_full)\n",
    "    print(\"\\n\")\n"
   ],
   "metadata": {
    "collapsed": false,
    "pycharm": {
     "name": "#%%\n"
    }
   }
  }
 ],
 "metadata": {
  "kernelspec": {
   "display_name": "Python 3",
   "language": "python",
   "name": "python3"
  },
  "language_info": {
   "codemirror_mode": {
    "name": "ipython",
    "version": 2
   },
   "file_extension": ".py",
   "mimetype": "text/x-python",
   "name": "python",
   "nbconvert_exporter": "python",
   "pygments_lexer": "ipython2",
   "version": "2.7.6"
  }
 },
 "nbformat": 4,
 "nbformat_minor": 0
}