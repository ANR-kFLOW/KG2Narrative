{
 "cells": [
  {
   "cell_type": "code",
   "execution_count": 6,
   "outputs": [],
   "source": [
    "import pandas as pd\n",
    "import xml.etree.ElementTree as ET"
   ],
   "metadata": {
    "collapsed": false,
    "pycharm": {
     "name": "#%%\n"
    }
   }
  },
  {
   "cell_type": "code",
   "execution_count": 7,
   "outputs": [],
   "source": [
    "data = pd.read_csv('data/predictions_small.csv')\n",
    "data = data.drop(data.columns[0], axis=1)\n",
    "data['path'] = data['path'].apply(lambda x: str(x)[60:]) #Only keep the general folder structure"
   ],
   "metadata": {
    "collapsed": false,
    "pycharm": {
     "name": "#%%\n"
    }
   }
  },
  {
   "cell_type": "code",
   "execution_count": 8,
   "outputs": [],
   "source": [
    "#This could probably be made a lot more efficiently\n",
    "paths = data['path'].unique() #Extract all the unique paths\n",
    "public_ids = {}\n",
    "for path in paths:\n",
    "    tree = ET.parse(f\"data/{path}\")\n",
    "    f = tree.find('NewsItem') #Traverse down the xml file\n",
    "    public_ids[path] = list(f.iter('PublicIdentifier'))[0].text\n",
    "\n",
    "data['PublicID'] = data['path'].map(public_ids)"
   ],
   "metadata": {
    "collapsed": false,
    "pycharm": {
     "name": "#%%\n"
    }
   }
  },
  {
   "cell_type": "code",
   "execution_count": 9,
   "outputs": [
    {
     "data": {
      "text/plain": "                                                path  \\\n0  afp_2021/2021/03/03/afp.com-20210303T141025Z-T...   \n1  afp_2021/2021/03/03/afp.com-20210303T141025Z-T...   \n2  afp_2021/2021/03/03/afp.com-20210303T141025Z-T...   \n3  afp_2021/2021/03/03/afp.com-20210303T141025Z-T...   \n4  afp_2021/2021/03/03/afp.com-20210303T141025Z-T...   \n\n                                            sentence  prediction  \\\n0  India skipper Virat Kohli on Wednesday credite...           1   \n1  \"There is always too much noise and too much c...           1   \n2  \"The reason for our success has been that we h...           1   \n3  England captain Joe Root said Test players sho...           2   \n4  \"I think that's part and parcel of Test cricke...           0   \n\n                                            PublicID  \n0  urn:newsml:afp.com:20210303T141025Z:TX-PAR-TVY...  \n1  urn:newsml:afp.com:20210303T141025Z:TX-PAR-TVY...  \n2  urn:newsml:afp.com:20210303T141025Z:TX-PAR-TVY...  \n3  urn:newsml:afp.com:20210303T141025Z:TX-PAR-TVY...  \n4  urn:newsml:afp.com:20210303T141025Z:TX-PAR-TVY...  ",
      "text/html": "<div>\n<style scoped>\n    .dataframe tbody tr th:only-of-type {\n        vertical-align: middle;\n    }\n\n    .dataframe tbody tr th {\n        vertical-align: top;\n    }\n\n    .dataframe thead th {\n        text-align: right;\n    }\n</style>\n<table border=\"1\" class=\"dataframe\">\n  <thead>\n    <tr style=\"text-align: right;\">\n      <th></th>\n      <th>path</th>\n      <th>sentence</th>\n      <th>prediction</th>\n      <th>PublicID</th>\n    </tr>\n  </thead>\n  <tbody>\n    <tr>\n      <th>0</th>\n      <td>afp_2021/2021/03/03/afp.com-20210303T141025Z-T...</td>\n      <td>India skipper Virat Kohli on Wednesday credite...</td>\n      <td>1</td>\n      <td>urn:newsml:afp.com:20210303T141025Z:TX-PAR-TVY...</td>\n    </tr>\n    <tr>\n      <th>1</th>\n      <td>afp_2021/2021/03/03/afp.com-20210303T141025Z-T...</td>\n      <td>\"There is always too much noise and too much c...</td>\n      <td>1</td>\n      <td>urn:newsml:afp.com:20210303T141025Z:TX-PAR-TVY...</td>\n    </tr>\n    <tr>\n      <th>2</th>\n      <td>afp_2021/2021/03/03/afp.com-20210303T141025Z-T...</td>\n      <td>\"The reason for our success has been that we h...</td>\n      <td>1</td>\n      <td>urn:newsml:afp.com:20210303T141025Z:TX-PAR-TVY...</td>\n    </tr>\n    <tr>\n      <th>3</th>\n      <td>afp_2021/2021/03/03/afp.com-20210303T141025Z-T...</td>\n      <td>England captain Joe Root said Test players sho...</td>\n      <td>2</td>\n      <td>urn:newsml:afp.com:20210303T141025Z:TX-PAR-TVY...</td>\n    </tr>\n    <tr>\n      <th>4</th>\n      <td>afp_2021/2021/03/03/afp.com-20210303T141025Z-T...</td>\n      <td>\"I think that's part and parcel of Test cricke...</td>\n      <td>0</td>\n      <td>urn:newsml:afp.com:20210303T141025Z:TX-PAR-TVY...</td>\n    </tr>\n  </tbody>\n</table>\n</div>"
     },
     "execution_count": 9,
     "metadata": {},
     "output_type": "execute_result"
    }
   ],
   "source": [
    "data.head()"
   ],
   "metadata": {
    "collapsed": false,
    "pycharm": {
     "name": "#%%\n"
    }
   }
  }
 ],
 "metadata": {
  "kernelspec": {
   "display_name": "Python 3",
   "language": "python",
   "name": "python3"
  },
  "language_info": {
   "codemirror_mode": {
    "name": "ipython",
    "version": 2
   },
   "file_extension": ".py",
   "mimetype": "text/x-python",
   "name": "python",
   "nbconvert_exporter": "python",
   "pygments_lexer": "ipython2",
   "version": "2.7.6"
  }
 },
 "nbformat": 4,
 "nbformat_minor": 0
}