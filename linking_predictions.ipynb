{
 "cells": [
  {
   "cell_type": "markdown",
   "source": [
    "# Generate the event and article knowledge graph"
   ],
   "metadata": {
    "collapsed": false,
    "pycharm": {
     "name": "#%% md\n"
    }
   }
  },
  {
   "cell_type": "code",
   "execution_count": 6,
   "outputs": [],
   "source": [
    "from rdflib import Graph, Literal, RDF, URIRef, Namespace\n",
    "import pandas as pd\n",
    "from SPARQLWrapper import SPARQLWrapper, JSON\n",
    "import ast\n",
    "from resources import *\n",
    "import re\n",
    "\n",
    "rnews = Namespace(\"http://iptc.org/std/rNews/2011-10-07#\")\n",
    "nif = Namespace(\"http://persistence.uni-leipzig.org/nlp2rdf/ontologies/nif-core#\")\n",
    "faro = Namespace(\"https://purl.org/faro/\")\n",
    "sem = Namespace(\"http://semanticweb.cs.vu.nl/2009/11/sem/\")\n",
    "owl = Namespace(\"http://www.w3.org/2002/07/owl#\")\n",
    "rnews = Namespace(\"http://iptc.org/std/rNews/2011-10-07#\")\n",
    "schema = Namespace(\"http://schema.org/\")\n",
    "\n",
    "faro_classes = {'cause': faro.causes, 'enable': faro.enables, 'intend': faro.intends_to_cause, 'prevent': faro.prevents} #dict of faro definitions\n",
    "sem_props = {'http://www.wikidata.org/prop/direct/P710': sem.hasActor,\n",
    "             'http://www.wikidata.org/prop/direct/P664': sem.hasActor,\n",
    "             'http://www.wikidata.org/prop/direct/P112': sem.hasActor,\n",
    "             'http://www.wikidata.org/prop/direct/P17': sem.hasPlace,\n",
    "             'http://www.wikidata.org/prop/direct/P276': sem.hasPlace,\n",
    "             'http://www.wikidata.org/prop/direct/P625': sem.hasPlace,\n",
    "             'http://www.wikidata.org/prop/direct/P131': sem.hasPlace,\n",
    "             'http://www.wikidata.org/prop/direct/P30': sem.hasPlace,\n",
    "             'http://www.wikidata.org/prop/direct/P585': sem.hasTime,\n",
    "             'http://www.wikidata.org/prop/direct/P580': sem.hasBeginTimeStamp,\n",
    "             'http://www.wikidata.org/prop/direct/P582': sem.hasEndTimeStamp,\n",
    "             'http://www.wikidata.org/prop/direct/P571': sem.hasTime,\n",
    "             'http://www.wikidata.org/prop/direct/P576': sem.hasTime,\n",
    "             'http://www.wikidata.org/prop/direct/P577': sem.hasTimeStamp,\n",
    "             'http://www.w3.org/2000/01/rdf-schema#label': 'what'}\n",
    "\n",
    "sem_classes = {sem.hasActor: sem.Actor,\n",
    "               sem.hasPlace: sem.Place,\n",
    "               sem.hasTime: sem.Time,\n",
    "               sem.hasBeginTimeStamp: sem.Time,\n",
    "               sem.hasEndTimeStamp: sem.Time,\n",
    "               sem.hasTimeStamp: sem.Time,\n",
    "               'what': sem.Event}"
   ],
   "metadata": {
    "collapsed": false,
    "pycharm": {
     "name": "#%%\n"
    }
   }
  },
  {
   "cell_type": "code",
   "execution_count": 3,
   "outputs": [],
   "source": [
    "def clean_text(text):\n",
    "\n",
    "    # Strip the last part of the text\n",
    "    index_of_last_occurence = text.rfind('</p><p>')\n",
    "    if index_of_last_occurence != -1:\n",
    "        text = text[:index_of_last_occurence]\n",
    "\n",
    "    text = re.sub(r\"<.*?>\", \" \", text) # Strip all the special characters in the text\n",
    "\n",
    "    text = text.strip() #Remove the whitespace at the beginning, due to deletion\n",
    "\n",
    "    return text"
   ],
   "metadata": {
    "collapsed": false,
    "pycharm": {
     "name": "#%%\n"
    }
   }
  },
  {
   "cell_type": "code",
   "execution_count": 7,
   "outputs": [],
   "source": [
    "data = pd.read_csv('Data/ASRAEL_data_full.csv')\n",
    "data['Text'] = data['Text'].apply(clean_text)"
   ],
   "metadata": {
    "collapsed": false,
    "pycharm": {
     "name": "#%%\n"
    }
   }
  },
  {
   "cell_type": "code",
   "execution_count": 8,
   "outputs": [
    {
     "name": "stdout",
     "output_type": "stream",
     "text": [
      "Error when searching for event: http://www.wikidata.org/entity/Q100919128\n",
      "Error when searching for event: http://www.wikidata.org/entity/Q113945893\n",
      "Error when searching for event: http://www.wikidata.org/entity/Q105597606\n"
     ]
    }
   ],
   "source": [
    "#This converts the data into the right format, by removing uneccessary tokens in text and converting the wikidata link to text\n",
    "graph = Graph()\n",
    "\n",
    "event_mapping = {} #here the wikidata event urls and their names are saved\n",
    "failed_events= [] #Events that can't be found e.g. owl:sameAs need to be removed\n",
    "\n",
    "sparql = SPARQLWrapper(\n",
    "    \"https://query.wikidata.org/sparql\"\n",
    ")\n",
    "sparql.setReturnFormat(JSON)\n",
    "\n",
    "for event in data['Event'].unique().tolist():\n",
    "    event_ = f\"wd:{event.split('/')[-1]}\"\n",
    "\n",
    "    sparql.setQuery(\"\"\"\n",
    "    SELECT (?p as ?wiki_prop) (?o as ?result)\n",
    "    WHERE {{{\n",
    "\n",
    "        %s ?p ?temp.\n",
    "      ?temp rdfs:label ?o.\n",
    "      FILTER (lang(?o) = 'en') }\n",
    "      }\n",
    "\n",
    "      UNION\n",
    "\n",
    "      {\n",
    "       SELECT *\n",
    "       WHERE{\n",
    "        %s ?p ?o.\n",
    "         FILTER(lang(?o) = 'en' || lang(?o)='') }}\n",
    "     } \"\"\" % (event_, event_))\n",
    "\n",
    "    try:\n",
    "        result = sparql.queryAndConvert()\n",
    "        #event_name = ret['results']['bindings'][0]['item']['value']\n",
    "\n",
    "    except:\n",
    "        print(f\"Something went wrong when converting event: {event}\")\n",
    "\n",
    "    try:\n",
    "        event_data = pd.json_normalize(result[\"results\"][\"bindings\"])[['wiki_prop.value', 'result.value', 'result.datatype']]\n",
    "        event_data = event_data.rename(columns={\"wiki_prop.value\": \"property\", \"result.value\": \"value\", \"result.datatype\": \"datatype\"})\n",
    "        event_data = event_data.loc[event_data['property'].isin(sem_props.keys())].reset_index(drop=True) #Only keep the 4W attributes\n",
    "        event_data['property'] = event_data['property'].replace(sem_props)\n",
    "        event_name = event_data.loc[event_data['property'] == 'what']['value'].values[0] #This needs to be saved to map the wikidata urls to events\n",
    "        event_data = event_data[event_data.property != 'what'] #This row needs to be deleted for the loop\n",
    "        event_mapping[event] = event_name\n",
    "    except:\n",
    "        print(f\"Error when searching for event: {event}\")\n",
    "        failed_events.append(event)\n",
    "        continue\n",
    "\n",
    "    #event_uri = node_creation('', event_name, base_add='/event') #Generate the URI for the event\n",
    "    graph.add((URIRef(event), RDF.type, sem.Event)) #Create the event\n",
    "    graph.add((URIRef(event), RDF.value, Literal(event_name)))\n",
    "\n",
    "    for index, row in event_data.iterrows():\n",
    "        uri = node_creation('', row['value'], base_add='') #Generate the URI for the property\n",
    "        graph.add((uri, RDF.type, sem_classes[row['property']])) #Create the node for the property, and lookup its class\n",
    "        if pd.isna(row['datatype']) == False: #It has a declared datatype\n",
    "            graph.add((uri, RDF.value, Literal(row['value'], datatype=row['datatype'])))\n",
    "        else:\n",
    "            graph.add((uri, RDF.value, Literal(row['value']))) #Add the value of the relation to the graph\n",
    "        graph.add((URIRef(event), row['property'], uri)) #Connect the event to the property\n",
    "\n",
    "graph.serialize('Data/examples/Event_graph_all.ttl', format='turtle')\n",
    "\n",
    "data= data[~data['Event'].isin(failed_events)] #remove the rows for which the event was not found\n",
    "#data['Event'] = data['Event'].map(event_mapping)\n",
    "#Check if this still is oke, it adds a list of events to the column event\n",
    "data = data.groupby(['URI','Identifier','Location', 'Time', 'Text']).agg({'Event': lambda x: list(x)}).reset_index(drop=False)\n",
    "data.to_csv('Data/ASRAEL_data_full_converted.csv')\n"
   ],
   "metadata": {
    "collapsed": false,
    "pycharm": {
     "name": "#%%\n"
    }
   }
  },
  {
   "cell_type": "code",
   "execution_count": 13,
   "outputs": [],
   "source": [
    "from nltk import tokenize\n",
    "data = pd.read_csv('Data/ASRAEL_data_full_converted.csv')\n",
    "data2 = pd.read_csv('Data/final_data_with_predictions.csv')\n",
    "events = []\n",
    "for index, row in data.iterrows():\n",
    "    for sentence in tokenize.sent_tokenize(row['Text']):\n",
    "        events.append(row['Event'])\n",
    "\n",
    "\n",
    "data2['Event'] = events\n",
    "data2.to_csv('Data/final_data_with_predictions.csv')"
   ],
   "metadata": {
    "collapsed": false,
    "pycharm": {
     "name": "#%%\n"
    }
   }
  },
  {
   "cell_type": "code",
   "execution_count": 2,
   "outputs": [
    {
     "name": "stderr",
     "output_type": "stream",
     "text": [
      "100%|██████████| 19578/19578 [00:16<00:00, 1198.91it/s]\n"
     ]
    },
    {
     "data": {
      "text/plain": "<Graph identifier=Nddb162272a924e7aaa69ed347461455e (<class 'rdflib.graph.Graph'>)>"
     },
     "execution_count": 2,
     "metadata": {},
     "output_type": "execute_result"
    }
   ],
   "source": [
    "from tqdm import tqdm\n",
    "from nltk import tokenize\n",
    "\n",
    "graph = Graph()\n",
    "graph.parse('Data/examples/Event_graph_all.ttl')\n",
    "#data = pd.read_csv('Data/ASRAEL_data_full_converted.csv')\n",
    "data = pd.read_csv('Data/final_data_with_predictions_new.csv')\n",
    "\n",
    "data_with_predictions = True\n",
    "\n",
    "for index, row in tqdm(data.iterrows(), total=data.shape[0]):\n",
    "\n",
    "    if not row.isnull().values.any(): #If nan is present skip the row\n",
    "\n",
    "        graph.add((URIRef(row['URI']), RDF.type, rnews.Article)) #Add the URI as article\n",
    "\n",
    "        identifier_uri = node_creation('', row['Identifier'], base_add='/identifier')\n",
    "        graph.add((URIRef(row['URI']), rnews.identifier, URIRef(identifier_uri))) #Link the PublicID to the article\n",
    "        graph.add((URIRef(identifier_uri), RDF.value, Literal(row['Identifier'])))\n",
    "\n",
    "        location_uri = node_creation('', row['Location'], base_add='')\n",
    "        graph.add((URIRef(row['URI']), schema.contentLocation, URIRef(location_uri)))\n",
    "        graph.add((URIRef(location_uri), RDF.value, Literal(row['Location'])))\n",
    "\n",
    "        time_uri = node_creation('', row['Time'], base_add='')\n",
    "        graph.add((URIRef(row['URI']), schema.contentReferenceTime, URIRef(time_uri)))\n",
    "        graph.add((URIRef(time_uri), RDF.value, Literal(row['Time'])))\n",
    "\n",
    "        if data_with_predictions == False: #Make the predictions\n",
    "\n",
    "            from rebel_finetuning_faro import make_predictions\n",
    "\n",
    "            sentences, predictions = make_predictions(tokenize.sent_tokenize(row['Text']), 'rebel_finetuned.pth')\n",
    "            for sentence, prediction in zip(sentences, predictions):\n",
    "\n",
    "                if prediction[1] in faro_classes:\n",
    "                    sentence_uri = node_creation('', sentence, base_add='/sentence') #Generate the URI for the sentence\n",
    "                    graph.add((URIRef(row['URI']), nif.sentence, sentence_uri)) #Link the article to the sentence\n",
    "                    graph.add((sentence_uri, RDF.type, nif.Sentence)) #Make the sentence URI of class 'Sentence'\n",
    "                    graph.add((sentence_uri, RDF.value, Literal(sentence))) #Set the value of the URI equal to the sentence\n",
    "\n",
    "                    subject_uri = node_creation('', prediction[0] + str(sentence_uri), base_add='/subject') #Generate the URI for the subject, for now add the uri of sentence to make it unique\n",
    "                    graph.add((sentence_uri, faro.Relata, subject_uri)) #Add the subject to the sentence\n",
    "                    graph.add((subject_uri, RDF.value, Literal(prediction[0]))) #Set the value of the subject URI equal to the subject\n",
    "\n",
    "                    object_uri = node_creation('', prediction[2] + str(sentence_uri), base_add='/object') #Generate the URI for the object, for now add the uri of sentence to make it unique\n",
    "                    graph.add((sentence_uri, faro.Relata, object_uri)) #Add the object to the sentence\n",
    "                    graph.add((object_uri, RDF.value, Literal(prediction[2]))) #Set the value of the subject URI equal to the object\n",
    "\n",
    "                    graph.add((subject_uri, faro_classes[prediction[1]], object_uri)) #Add relation betwee NERs\n",
    "                else:\n",
    "                    continue\n",
    "        else: # The data already contains the predictions\n",
    "            sentence = row['Sentence']\n",
    "            prediction = (row['Subject'], row['Relation'], row['Object'])\n",
    "\n",
    "            if prediction[1] in faro_classes:\n",
    "                sentence_uri = node_creation('', sentence, base_add='/sentence') #Generate the URI for the sentence\n",
    "                graph.add((URIRef(row['URI']), nif.sentence, sentence_uri)) #Link the article to the sentence\n",
    "                graph.add((sentence_uri, RDF.type, nif.Sentence)) #Make the sentence URI of class 'Sentence'\n",
    "                graph.add((sentence_uri, RDF.value, Literal(sentence))) #Set the value of the URI equal to the sentence\n",
    "\n",
    "                subject_uri = node_creation('', prediction[0] + str(sentence_uri), base_add='/subject') #Generate the URI for the subject, for now add the uri of sentence to make it unique\n",
    "                graph.add((sentence_uri, faro.Relata, subject_uri)) #Add the subject to the sentence\n",
    "                graph.add((subject_uri, RDF.value, Literal(prediction[0]))) #Set the value of the subject URI equal to the subject\n",
    "\n",
    "                object_uri = node_creation('', prediction[2] + str(sentence_uri), base_add='/object') #Generate the URI for the object, for now add the uri of sentence to make it unique\n",
    "                graph.add((sentence_uri, faro.Relata, object_uri)) #Add the object to the sentence\n",
    "                graph.add((object_uri, RDF.value, Literal(prediction[2]))) #Set the value of the subject URI equal to the object\n",
    "\n",
    "                graph.add((subject_uri, faro_classes[prediction[1]], object_uri)) #Add relation betwee NERs\n",
    "            else:\n",
    "                continue\n",
    "\n",
    "        for event in ast.literal_eval(row['Event']): #Link the article to the corresponding event\n",
    "            #event_uri = node_creation('', event_name, base_add='/event')\n",
    "            graph.add((URIRef(row['URI']), schema.about, URIRef(event)))\n",
    "\n",
    "graph.serialize('Data/examples/event_article_graph_complete_new.ttl', format='turtle')"
   ],
   "metadata": {
    "collapsed": false,
    "pycharm": {
     "name": "#%%\n"
    }
   }
  },
  {
   "cell_type": "code",
   "execution_count": null,
   "outputs": [],
   "source": [
    "import networkx as nx\n",
    "from rdflib.extras.external_graph_libs import rdflib_to_networkx_multidigraph\n",
    "\n",
    "nx_graph = rdflib_to_networkx_multidigraph(graph)\n",
    "pos = nx.spring_layout(nx_graph, scale=2)\n",
    "\n",
    "edge_labels = nx.get_edge_attributes(nx_graph, 'r')\n",
    "nx.draw_networkx_edge_labels(nx_graph, pos, edge_labels=edge_labels)\n",
    "nx.draw(nx_graph, with_labels=True)"
   ],
   "metadata": {
    "collapsed": false,
    "pycharm": {
     "name": "#%%\n"
    }
   }
  },
  {
   "cell_type": "code",
   "execution_count": 2,
   "outputs": [
    {
     "name": "stderr",
     "output_type": "stream",
     "text": [
      "[nltk_data] Downloading package punkt to\n",
      "[nltk_data]     C:\\Users\\mike-\\AppData\\Roaming\\nltk_data...\n",
      "[nltk_data]   Package punkt is already up-to-date!\n",
      "  0%|          | 0/1122 [00:00<?, ?it/s]C:\\Users\\mike-\\Documents\\VU\\Eurecom\\KG_mapping\\venv\\lib\\site-packages\\transformers\\generation\\utils.py:1313: UserWarning: Using `max_length`'s default (200) to control the generation length. This behaviour is deprecated and will be removed from the config in v5 of Transformers -- we recommend using `max_new_tokens` to control the maximum length of the generation.\n",
      "  warnings.warn(\n",
      "100%|██████████| 1122/1122 [2:42:08<00:00,  8.67s/it] \n"
     ]
    }
   ],
   "source": [
    "# Perform predictions again since the sentence number is needed for event resolution\n",
    "import pandas as pd\n",
    "from rebel_finetuning_faro import make_predictions\n",
    "from nltk import tokenize\n",
    "from tqdm import tqdm\n",
    "\n",
    "data = pd.read_csv('Data/ASRAEL_data_full_converted.csv')\n",
    "total_uri = []\n",
    "total_identifier = []\n",
    "total_location = []\n",
    "total_time = []\n",
    "total_event = []\n",
    "total_sentence_num = []\n",
    "total_sentences = []\n",
    "total_subject = []\n",
    "total_relation = []\n",
    "total_object = []\n",
    "\n",
    "for index, row in tqdm(data.iterrows(), total=data.shape[0]):\n",
    "    sentences, predictions = make_predictions(tokenize.sent_tokenize(row['Text']), 'rebel_finetuned.pth')\n",
    "    for i, (sentence, prediction) in enumerate(zip(sentences, predictions)):\n",
    "\n",
    "        total_uri.append(row['URI'])\n",
    "        total_identifier.append(row['Identifier'])\n",
    "        total_location.append(row['Location'])\n",
    "        total_time.append(row['Time'])\n",
    "        total_event.append(row['Event'])\n",
    "        total_sentence_num.append(i)\n",
    "        total_sentences.append(sentence)\n",
    "        total_subject.append(prediction[0])\n",
    "        total_relation.append(prediction[1])\n",
    "        total_object.append(prediction[2])\n",
    "\n",
    "\n",
    "new_data = pd.DataFrame({'URI': total_uri, 'Identifier': total_identifier, 'Location': total_location, 'Time': total_time, 'Sentence_num': total_sentence_num, 'Sentence': total_sentences, 'Subject': total_subject, 'Relation': total_relation, 'Object': total_object, 'Event': total_event})\n",
    "\n",
    "new_data = new_data[~((new_data['Sentence'].str.len() < 25) & new_data['Sentence'].str.contains('/'))].reset_index(drop=True)\n",
    "\n",
    "new_data.to_csv('final_data_with_predictions.csv')"
   ],
   "metadata": {
    "collapsed": false,
    "pycharm": {
     "name": "#%%\n"
    }
   }
  },
  {
   "cell_type": "markdown",
   "source": [
    "# Merge same entities\n",
    "### Entity coreference resolution"
   ],
   "metadata": {
    "collapsed": false,
    "pycharm": {
     "name": "#%% md\n"
    }
   }
  },
  {
   "cell_type": "code",
   "execution_count": 2,
   "outputs": [],
   "source": [
    "# This code will load the clusters from a text file, and merge the nodes in the cluster together\n",
    "import ast\n",
    "from resources import node_creation\n",
    "import pandas as pd\n",
    "from rdflib import Graph, Literal, RDF, URIRef, Namespace\n",
    "\n",
    "data = pd.read_csv('Data/final_data_with_predictions_new.csv') #Load the original dataset\n",
    "with open('Data/cluster_data/event_clusters_0.85.txt') as f: #Open the generated cluster file\n",
    "    cluster_doc = f.readlines()"
   ],
   "metadata": {
    "collapsed": false,
    "pycharm": {
     "name": "#%%\n"
    }
   }
  },
  {
   "cell_type": "code",
   "execution_count": 5,
   "outputs": [
    {
     "name": "stdout",
     "output_type": "stream",
     "text": [
      "http://kflow.eurecom.fr/subject/35242267-f003-5a05-9c4e-02eb1bd1bd73\n",
      "http://kflow.eurecom.fr/subject/82cb0354-3a51-53f9-a555-23ab0769be42\n",
      "http://kflow.eurecom.fr/subject/82cb0354-3a51-53f9-a555-23ab0769be42\n",
      "http://kflow.eurecom.fr/object/14fa475d-55b1-5a8e-aca5-4fdaad1c767f\n",
      "http://kflow.eurecom.fr/subject/00b9e053-5954-527e-b3ae-1f09a5a22b7a\n",
      "http://kflow.eurecom.fr/subject/f19f0f34-f6f9-50bb-84e3-c283cb7d8016\n",
      "http://kflow.eurecom.fr/subject/e14761c0-363e-5ee8-bd11-c57bdf88bae2\n",
      "http://kflow.eurecom.fr/subject/35242267-f003-5a05-9c4e-02eb1bd1bd73\n",
      "http://kflow.eurecom.fr/subject/50fc9e7d-0fcc-5ae8-ae2a-444b5d682ae3\n",
      "http://kflow.eurecom.fr/subject/35242267-f003-5a05-9c4e-02eb1bd1bd73\n",
      "http://kflow.eurecom.fr/subject/50fc9e7d-0fcc-5ae8-ae2a-444b5d682ae3\n",
      "http://kflow.eurecom.fr/subject/50fc9e7d-0fcc-5ae8-ae2a-444b5d682ae3\n",
      "http://kflow.eurecom.fr/subject/50fc9e7d-0fcc-5ae8-ae2a-444b5d682ae3\n",
      "http://kflow.eurecom.fr/object/c968139c-a2e5-5d8b-b895-f60510300dfd\n",
      "http://kflow.eurecom.fr/object/a9672fa9-3fa8-5a92-aa43-6257f7d26bd8\n",
      "http://kflow.eurecom.fr/subject/90d5233d-1310-521d-ab06-0d521aa7072c\n",
      "http://kflow.eurecom.fr/subject/90d5233d-1310-521d-ab06-0d521aa7072c\n",
      "http://kflow.eurecom.fr/subject/90d5233d-1310-521d-ab06-0d521aa7072c\n",
      "http://kflow.eurecom.fr/subject/90d5233d-1310-521d-ab06-0d521aa7072c\n",
      "http://kflow.eurecom.fr/subject/90d5233d-1310-521d-ab06-0d521aa7072c\n",
      "http://kflow.eurecom.fr/subject/8984ba25-f989-5dfd-8b70-96b3e465f344\n",
      "http://kflow.eurecom.fr/subject/c4e0ee8e-08ba-5dff-99c6-7cc4dc008677\n",
      "http://kflow.eurecom.fr/subject/c4e0ee8e-08ba-5dff-99c6-7cc4dc008677\n",
      "http://kflow.eurecom.fr/subject/c4e0ee8e-08ba-5dff-99c6-7cc4dc008677\n",
      "http://kflow.eurecom.fr/subject/c4e0ee8e-08ba-5dff-99c6-7cc4dc008677\n",
      "http://kflow.eurecom.fr/object/e794fe8d-b856-5062-b689-1da9c4aeb41b\n",
      "http://kflow.eurecom.fr/object/a2fb1faa-7415-5057-aac8-2c462129e23c\n",
      "http://kflow.eurecom.fr/object/ce8519d1-b69c-5dd6-94f5-3564b16f55c7\n",
      "http://kflow.eurecom.fr/object/ce8519d1-b69c-5dd6-94f5-3564b16f55c7\n",
      "http://kflow.eurecom.fr/object/ce8519d1-b69c-5dd6-94f5-3564b16f55c7\n",
      "http://kflow.eurecom.fr/object/cdfb748d-7c78-5360-9718-54c54c3340cd\n",
      "http://kflow.eurecom.fr/object/cdfb748d-7c78-5360-9718-54c54c3340cd\n",
      "http://kflow.eurecom.fr/object/b916eb1d-72c1-5325-9a88-332d39b2ceda\n",
      "http://kflow.eurecom.fr/object/b916eb1d-72c1-5325-9a88-332d39b2ceda\n",
      "http://kflow.eurecom.fr/object/b916eb1d-72c1-5325-9a88-332d39b2ceda\n",
      "http://kflow.eurecom.fr/object/a5759126-c28b-546e-96ea-d4414f9e5863\n",
      "http://kflow.eurecom.fr/object/a5759126-c28b-546e-96ea-d4414f9e5863\n",
      "http://kflow.eurecom.fr/subject/52bd5718-1544-50fc-9fd8-0277e76011ad\n",
      "http://kflow.eurecom.fr/subject/52bd5718-1544-50fc-9fd8-0277e76011ad\n",
      "http://kflow.eurecom.fr/subject/52bd5718-1544-50fc-9fd8-0277e76011ad\n",
      "http://kflow.eurecom.fr/object/73421415-8768-57ae-a999-310b5d8f0200\n",
      "http://kflow.eurecom.fr/object/40c0efa7-1ebd-536a-855e-5579288530e6\n",
      "http://kflow.eurecom.fr/object/40c0efa7-1ebd-536a-855e-5579288530e6\n",
      "http://kflow.eurecom.fr/object/40c0efa7-1ebd-536a-855e-5579288530e6\n",
      "http://kflow.eurecom.fr/object/a162a38d-ca5a-50cc-8e5d-5099fd3bbdfb\n",
      "http://kflow.eurecom.fr/object/a162a38d-ca5a-50cc-8e5d-5099fd3bbdfb\n",
      "http://kflow.eurecom.fr/object/fc61fbae-3060-565d-821e-449be1dbfdef\n",
      "http://kflow.eurecom.fr/object/fc61fbae-3060-565d-821e-449be1dbfdef\n",
      "http://kflow.eurecom.fr/object/fc61fbae-3060-565d-821e-449be1dbfdef\n",
      "http://kflow.eurecom.fr/object/bad73ccf-5fd7-58b8-b950-256e7a227369\n",
      "http://kflow.eurecom.fr/object/bad73ccf-5fd7-58b8-b950-256e7a227369\n",
      "http://kflow.eurecom.fr/object/bad73ccf-5fd7-58b8-b950-256e7a227369\n",
      "http://kflow.eurecom.fr/object/d660ead0-2cba-5f3c-8bf7-83913f8391df\n",
      "http://kflow.eurecom.fr/subject/1cc23d43-7e28-51ee-bedb-2a5811b64d10\n",
      "http://kflow.eurecom.fr/object/631eda01-bb61-5425-abdd-ea5871202bfc\n",
      "http://kflow.eurecom.fr/object/631eda01-bb61-5425-abdd-ea5871202bfc\n",
      "http://kflow.eurecom.fr/object/631eda01-bb61-5425-abdd-ea5871202bfc\n",
      "http://kflow.eurecom.fr/object/617e3108-5102-5af5-84b4-b10cd5582e76\n",
      "http://kflow.eurecom.fr/object/631eda01-bb61-5425-abdd-ea5871202bfc\n",
      "http://kflow.eurecom.fr/object/74744dd1-ba38-5db5-aaad-a5856e6401f8\n",
      "http://kflow.eurecom.fr/object/74744dd1-ba38-5db5-aaad-a5856e6401f8\n",
      "http://kflow.eurecom.fr/object/74744dd1-ba38-5db5-aaad-a5856e6401f8\n",
      "http://kflow.eurecom.fr/object/74744dd1-ba38-5db5-aaad-a5856e6401f8\n",
      "http://kflow.eurecom.fr/subject/8d90d60f-21e4-5fa0-868b-8f3b435e3939\n",
      "http://kflow.eurecom.fr/subject/8d90d60f-21e4-5fa0-868b-8f3b435e3939\n",
      "http://kflow.eurecom.fr/subject/8d90d60f-21e4-5fa0-868b-8f3b435e3939\n",
      "http://kflow.eurecom.fr/subject/21d0098f-3dd7-545e-83ba-a663eed65eff\n",
      "http://kflow.eurecom.fr/subject/9edb7a3a-7bfb-599e-b642-7a7433f79bd4\n",
      "http://kflow.eurecom.fr/subject/0bbbe014-8155-51ff-831f-9a0978c3efec\n",
      "http://kflow.eurecom.fr/object/7e1f98e7-68d4-544c-b86d-a170bad28116\n",
      "http://kflow.eurecom.fr/object/521ae786-42f2-5547-b35d-9a551c26d609\n",
      "http://kflow.eurecom.fr/object/521ae786-42f2-5547-b35d-9a551c26d609\n",
      "http://kflow.eurecom.fr/object/521ae786-42f2-5547-b35d-9a551c26d609\n",
      "http://kflow.eurecom.fr/object/3f7c1ae8-1ea7-5f45-97bb-7ab06021916c\n",
      "http://kflow.eurecom.fr/object/4fdc4438-c1d1-51ab-b0e7-adbeb7eb54f6\n",
      "http://kflow.eurecom.fr/object/2f7a9086-a0b1-5628-bead-987ffa46fc52\n",
      "http://kflow.eurecom.fr/object/2f7a9086-a0b1-5628-bead-987ffa46fc52\n",
      "http://kflow.eurecom.fr/object/2f7a9086-a0b1-5628-bead-987ffa46fc52\n",
      "http://kflow.eurecom.fr/object/2f7a9086-a0b1-5628-bead-987ffa46fc52\n",
      "http://kflow.eurecom.fr/object/2f7a9086-a0b1-5628-bead-987ffa46fc52\n",
      "http://kflow.eurecom.fr/object/a6872e46-85f6-541c-aaf8-5eb4d350547a\n",
      "http://kflow.eurecom.fr/object/a6872e46-85f6-541c-aaf8-5eb4d350547a\n",
      "http://kflow.eurecom.fr/object/a6872e46-85f6-541c-aaf8-5eb4d350547a\n",
      "http://kflow.eurecom.fr/object/4fdc4438-c1d1-51ab-b0e7-adbeb7eb54f6\n",
      "http://kflow.eurecom.fr/object/0b97bc69-b318-52f5-a1f5-8144ddcf37cd\n",
      "http://kflow.eurecom.fr/object/0b97bc69-b318-52f5-a1f5-8144ddcf37cd\n",
      "http://kflow.eurecom.fr/object/0b97bc69-b318-52f5-a1f5-8144ddcf37cd\n",
      "http://kflow.eurecom.fr/object/0b97bc69-b318-52f5-a1f5-8144ddcf37cd\n",
      "http://kflow.eurecom.fr/subject/73aaa88b-4200-5569-a022-b6ce4b836752\n",
      "http://kflow.eurecom.fr/subject/73aaa88b-4200-5569-a022-b6ce4b836752\n",
      "http://kflow.eurecom.fr/subject/29cb2866-f8de-537a-86a3-e3d183b260fa\n",
      "http://kflow.eurecom.fr/subject/29cb2866-f8de-537a-86a3-e3d183b260fa\n",
      "http://kflow.eurecom.fr/object/d7514894-4a54-580b-83d2-1e78747642f9\n",
      "http://kflow.eurecom.fr/object/0b911c25-3b00-5bf3-aa46-c40c95c4e214\n",
      "http://kflow.eurecom.fr/object/2253bd2f-5556-51d6-901d-c64bd58e0a81\n",
      "http://kflow.eurecom.fr/object/a21ea188-bb6c-54e5-b3aa-db6662d9f432\n",
      "http://kflow.eurecom.fr/object/a21ea188-bb6c-54e5-b3aa-db6662d9f432\n",
      "http://kflow.eurecom.fr/object/a21ea188-bb6c-54e5-b3aa-db6662d9f432\n",
      "http://kflow.eurecom.fr/object/a21ea188-bb6c-54e5-b3aa-db6662d9f432\n",
      "http://kflow.eurecom.fr/subject/e9d73ebb-f363-5777-b941-5ee001487dee\n",
      "http://kflow.eurecom.fr/subject/fc285d00-bc7e-533a-adca-3fbfc1c3c053\n",
      "http://kflow.eurecom.fr/subject/2661cfc8-5ed2-5850-8044-8e6dee21c2be\n",
      "http://kflow.eurecom.fr/subject/2661cfc8-5ed2-5850-8044-8e6dee21c2be\n",
      "http://kflow.eurecom.fr/subject/2661cfc8-5ed2-5850-8044-8e6dee21c2be\n",
      "http://kflow.eurecom.fr/subject/2661cfc8-5ed2-5850-8044-8e6dee21c2be\n",
      "http://kflow.eurecom.fr/subject/3aefed53-3711-5894-81e7-3108c6f02ab4\n",
      "http://kflow.eurecom.fr/object/42902f85-cd17-5d3d-aa89-62f346a7c0be\n",
      "http://kflow.eurecom.fr/subject/870fb3cd-936c-5db9-9e6d-3d28bc99f8fb\n",
      "http://kflow.eurecom.fr/subject/870fb3cd-936c-5db9-9e6d-3d28bc99f8fb\n",
      "http://kflow.eurecom.fr/subject/870fb3cd-936c-5db9-9e6d-3d28bc99f8fb\n",
      "http://kflow.eurecom.fr/object/f0eb67a3-de3d-5027-92d2-d2aa7ef22bbc\n",
      "http://kflow.eurecom.fr/object/537635b3-a114-541c-9b2d-e365cbba727a\n",
      "http://kflow.eurecom.fr/object/15c4dda2-8663-5b1a-8c69-55b9d595678a\n",
      "http://kflow.eurecom.fr/subject/2a2beed9-75dc-587d-a72f-76370d22bb9a\n",
      "http://kflow.eurecom.fr/subject/2a2beed9-75dc-587d-a72f-76370d22bb9a\n",
      "http://kflow.eurecom.fr/subject/2a2beed9-75dc-587d-a72f-76370d22bb9a\n",
      "http://kflow.eurecom.fr/subject/36f33083-022f-5356-a8e8-c979a715907a\n",
      "http://kflow.eurecom.fr/subject/36f33083-022f-5356-a8e8-c979a715907a\n",
      "http://kflow.eurecom.fr/subject/36f33083-022f-5356-a8e8-c979a715907a\n",
      "http://kflow.eurecom.fr/subject/36f33083-022f-5356-a8e8-c979a715907a\n",
      "http://kflow.eurecom.fr/subject/1383abea-da3a-5b57-bf77-5735dc764488\n",
      "http://kflow.eurecom.fr/subject/428cc46b-cf85-55fb-9571-8371d608b4e0\n",
      "http://kflow.eurecom.fr/subject/1dac4e18-5288-5f5b-88e1-8ada7933c61b\n",
      "http://kflow.eurecom.fr/subject/c99cd974-418d-5356-bdaa-c069f07323c4\n",
      "http://kflow.eurecom.fr/subject/758b0782-c4f6-54db-bd0a-b30983d7cf74\n",
      "http://kflow.eurecom.fr/subject/cf04f4dd-fc51-50ba-947b-a68a59e57a2e\n",
      "http://kflow.eurecom.fr/subject/16d7a722-86ae-562c-9650-778a643238f3\n",
      "http://kflow.eurecom.fr/subject/16d7a722-86ae-562c-9650-778a643238f3\n",
      "http://kflow.eurecom.fr/subject/cf04f4dd-fc51-50ba-947b-a68a59e57a2e\n",
      "http://kflow.eurecom.fr/subject/836e695b-2791-5172-80e8-6780d8777a8e\n",
      "http://kflow.eurecom.fr/subject/9af4534d-224f-5300-a7a5-97488ae24907\n",
      "http://kflow.eurecom.fr/subject/3e407643-bfd1-5e52-a1f3-8f5bfc583568\n",
      "http://kflow.eurecom.fr/subject/547fe467-a6c0-546b-83f4-25671c81cdc7\n",
      "http://kflow.eurecom.fr/subject/c718c7a4-c81f-50f3-9fa5-f1459e95d9ed\n",
      "http://kflow.eurecom.fr/subject/c718c7a4-c81f-50f3-9fa5-f1459e95d9ed\n",
      "http://kflow.eurecom.fr/subject/c718c7a4-c81f-50f3-9fa5-f1459e95d9ed\n",
      "http://kflow.eurecom.fr/subject/25b55d38-50c5-54c4-b884-e4d97b91ab79\n",
      "http://kflow.eurecom.fr/subject/25b55d38-50c5-54c4-b884-e4d97b91ab79\n",
      "http://kflow.eurecom.fr/subject/25b55d38-50c5-54c4-b884-e4d97b91ab79\n",
      "http://kflow.eurecom.fr/subject/69577fc8-dff6-5a06-a994-846c720788b2\n",
      "http://kflow.eurecom.fr/subject/69577fc8-dff6-5a06-a994-846c720788b2\n",
      "http://kflow.eurecom.fr/subject/69577fc8-dff6-5a06-a994-846c720788b2\n",
      "http://kflow.eurecom.fr/subject/69577fc8-dff6-5a06-a994-846c720788b2\n",
      "http://kflow.eurecom.fr/subject/69577fc8-dff6-5a06-a994-846c720788b2\n",
      "http://kflow.eurecom.fr/subject/7362b316-21b1-5676-b345-1abeeeae4464\n",
      "http://kflow.eurecom.fr/object/1a8ade6b-b95d-5edb-9778-9dc0caaacb52\n",
      "http://kflow.eurecom.fr/object/76e3514b-a93a-5f62-8e9a-69eb2ea8fb39\n",
      "http://kflow.eurecom.fr/object/76e3514b-a93a-5f62-8e9a-69eb2ea8fb39\n",
      "http://kflow.eurecom.fr/subject/933dbe95-f539-5ce5-b517-f4d48c9f7cba\n",
      "http://kflow.eurecom.fr/subject/933dbe95-f539-5ce5-b517-f4d48c9f7cba\n",
      "http://kflow.eurecom.fr/subject/933dbe95-f539-5ce5-b517-f4d48c9f7cba\n"
     ]
    }
   ],
   "source": [
    "graph = Graph()\n",
    "graph.parse('Data/examples/event_article_graph_complete_new.ttl')\n",
    "\n",
    "for cluster in cluster_doc:\n",
    "\n",
    "    if cluster.startswith('['):\n",
    "        cluster = ast.literal_eval(cluster)\n",
    "\n",
    "        prev_mention_uri = None\n",
    "        if len(cluster) != 1:\n",
    "            for i, mention in enumerate(cluster):\n",
    "                mention = mention.split('_')\n",
    "\n",
    "                sentence = data[(data['URI'] == mention[1]) & (data['Sentence_num'] == int(mention[2]))]['Sentence'].values[0]\n",
    "                sentence_uri = node_creation('', sentence, base_add='/sentence') #Generate the URI for the sentence\n",
    "\n",
    "                mention_uri = node_creation('', mention[0] + str(sentence_uri), base_add='/subject')\n",
    "\n",
    "                #determine subject or object\n",
    "                if data[(data['URI'] == mention[1]) & (data['Sentence_num'] == int(mention[2]))]['Subject'].values[0] == mention[0]:\n",
    "                    mention_uri = node_creation('', mention[0] + str(sentence_uri), base_add='/subject')\n",
    "\n",
    "                else:\n",
    "                    mention_uri = node_creation('', mention[0] + str(sentence_uri), base_add='/object')\n",
    "\n",
    "                #print(mention_uri)\n",
    "\n",
    "                if i != 0:\n",
    "                    graph.add((prev_mention_uri, owl.sameAs, mention_uri))\n",
    "\n",
    "\n",
    "                prev_mention_uri = mention_uri\n",
    "\n"
   ],
   "metadata": {
    "collapsed": false,
    "pycharm": {
     "name": "#%%\n"
    }
   }
  },
  {
   "cell_type": "markdown",
   "source": [
    "# Select most relevant information from the graph"
   ],
   "metadata": {
    "collapsed": false,
    "pycharm": {
     "name": "#%% md\n"
    }
   }
  },
  {
   "cell_type": "code",
   "execution_count": 16,
   "outputs": [
    {
     "name": "stdout",
     "output_type": "stream",
     "text": [
      "504 - 86: on average: 5.8604651162790695\n",
      "25852 - 1122: on average: 23.040998217468804\n"
     ]
    }
   ],
   "source": [
    "#Get some statistics first\n",
    "\n",
    "g = Graph()\n",
    "g.parse(\"Data/examples/event_article_graph_complete.ttl\")\n",
    "\n",
    "query = \"\"\"\n",
    "PREFIX sem: <http://semanticweb.cs.vu.nl/2009/11/sem/>\n",
    "SELECT ?URI ?\n",
    "WHERE {\n",
    "    ?s a sem:Event;\n",
    "        ?p ?o\n",
    "}\"\"\"\n",
    "\n",
    "qres = g.query(query)\n",
    "for row in qres:\n",
    "    print(f\"num_pred: {row.num_predicates} - num_events: {row.num_events}: on average: {int(row.num_predicates) / int(row.num_events)}\")\n",
    "\n",
    "query = \"\"\"\n",
    "PREFIX sem: <http://semanticweb.cs.vu.nl/2009/11/sem/>\n",
    "PREFIX rnews: <http://iptc.org/std/rNews/2011-10-07#>\n",
    "SELECT (COUNT(?p) as ?num_predicates) (COUNT(DISTINCT ?s) as ?num_articles)\n",
    "WHERE {\n",
    "    ?s a rnews:Article;\n",
    "        ?p ?o\n",
    "}\"\"\"\n",
    "\n",
    "qres = g.query(query)\n",
    "for row in qres:\n",
    "    print(f\"num_pred: {row.num_predicates} - num_article: {row.num_articles}: on average: {int(row.num_predicates) / int(row.num_articles)}\")"
   ],
   "metadata": {
    "collapsed": false,
    "pycharm": {
     "name": "#%%\n"
    }
   }
  }
 ],
 "metadata": {
  "kernelspec": {
   "display_name": "Python 3",
   "language": "python",
   "name": "python3"
  },
  "language_info": {
   "codemirror_mode": {
    "name": "ipython",
    "version": 2
   },
   "file_extension": ".py",
   "mimetype": "text/x-python",
   "name": "python",
   "nbconvert_exporter": "python",
   "pygments_lexer": "ipython2",
   "version": "2.7.6"
  }
 },
 "nbformat": 4,
 "nbformat_minor": 0
}